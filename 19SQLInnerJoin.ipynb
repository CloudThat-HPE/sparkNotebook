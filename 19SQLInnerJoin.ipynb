{
 "cells": [
  {
   "cell_type": "markdown",
   "id": "72629e80",
   "metadata": {},
   "source": [
    "Till We worked with single dataframe\n",
    "However Spark will going to bring together large number of dataframes, and hence you may need to join them together.\n",
    "From This section will talk about spark joins and how to use them\n",
    "You required two datarame, left and right , which one to make left and which one to right that you may take decision.\n",
    "Will perform join with two operations\n",
    "1. Join condition/Expression join_expr = order_df.prodid === proddf_prodid\n",
    "2. Join Type                 join_type = \"inner\"\n",
    "\n",
    "leftdatframe.join(rightdataframe,join_expr,join_type) #inner join is default if nothing mentioned"
   ]
  },
  {
   "cell_type": "code",
   "execution_count": 2,
   "id": "e93cf2fa",
   "metadata": {},
   "outputs": [],
   "source": [
    "import findspark\n",
    "findspark.init()\n",
    "\n",
    "import pyspark\n",
    "from pyspark.sql import *\n",
    "from pyspark.sql import functions as f\n",
    "from lib.logger import Log4j\n",
    "\n",
    "spark = SparkSession.builder \\\n",
    "            .master(\"local[3]\") \\\n",
    "            .appName(\"Misc Transformations\") \\\n",
    "            .getOrCreate()\n",
    "\n",
    "logger = Log4j(spark)"
   ]
  },
  {
   "cell_type": "code",
   "execution_count": 3,
   "id": "65b89936",
   "metadata": {},
   "outputs": [],
   "source": [
    "orders_list = [(\"01\", \"02\", 350, 1),\n",
    "                   (\"01\", \"04\", 580, 1),\n",
    "                   (\"01\", \"07\", 320, 2),\n",
    "                   (\"02\", \"03\", 450, 1),\n",
    "                   (\"02\", \"06\", 220, 1),\n",
    "                   (\"03\", \"01\", 195, 1),\n",
    "                   (\"04\", \"09\", 270, 3),\n",
    "                   (\"04\", \"08\", 410, 2),\n",
    "                   (\"05\", \"02\", 350, 1)]"
   ]
  },
  {
   "cell_type": "code",
   "execution_count": 4,
   "id": "552ca587",
   "metadata": {},
   "outputs": [],
   "source": [
    "product_list = [(\"01\", \"Scroll Mouse\", 250, 20),\n",
    "                    (\"02\", \"Optical Mouse\", 350, 20),\n",
    "                    (\"03\", \"Wireless Mouse\", 450, 50),\n",
    "                    (\"04\", \"Wireless Keyboard\", 580, 50),\n",
    "                    (\"05\", \"Standard Keyboard\", 360, 10),\n",
    "                    (\"06\", \"16 GB Flash Storage\", 240, 100),\n",
    "                    (\"07\", \"32 GB Flash Storage\", 320, 50),\n",
    "                    (\"08\", \"64 GB Flash Storage\", 430, 25)]"
   ]
  },
  {
   "cell_type": "markdown",
   "id": "e0c97010",
   "metadata": {},
   "source": [
    "lets create dataframe from list"
   ]
  },
  {
   "cell_type": "code",
   "execution_count": 5,
   "id": "960017b2",
   "metadata": {},
   "outputs": [
    {
     "name": "stdout",
     "output_type": "stream",
     "text": [
      "+--------+-------+----------+---+\n",
      "|order_id|prod_id|unit_price|qty|\n",
      "+--------+-------+----------+---+\n",
      "|      01|     02|       350|  1|\n",
      "|      01|     04|       580|  1|\n",
      "|      01|     07|       320|  2|\n",
      "|      02|     03|       450|  1|\n",
      "|      02|     06|       220|  1|\n",
      "|      03|     01|       195|  1|\n",
      "|      04|     09|       270|  3|\n",
      "|      04|     08|       410|  2|\n",
      "|      05|     02|       350|  1|\n",
      "+--------+-------+----------+---+\n",
      "\n"
     ]
    }
   ],
   "source": [
    "order_df = spark.createDataFrame(orders_list).toDF(\"order_id\", \"prod_id\", \"unit_price\", \"qty\")\n",
    "order_df.show()"
   ]
  },
  {
   "cell_type": "code",
   "execution_count": 6,
   "id": "fc9889de",
   "metadata": {},
   "outputs": [
    {
     "name": "stdout",
     "output_type": "stream",
     "text": [
      "+-------+-------------------+----------+---+\n",
      "|prod_id|          prod_name|list_price|qty|\n",
      "+-------+-------------------+----------+---+\n",
      "|     01|       Scroll Mouse|       250| 20|\n",
      "|     02|      Optical Mouse|       350| 20|\n",
      "|     03|     Wireless Mouse|       450| 50|\n",
      "|     04|  Wireless Keyboard|       580| 50|\n",
      "|     05|  Standard Keyboard|       360| 10|\n",
      "|     06|16 GB Flash Storage|       240|100|\n",
      "|     07|32 GB Flash Storage|       320| 50|\n",
      "|     08|64 GB Flash Storage|       430| 25|\n",
      "+-------+-------------------+----------+---+\n",
      "\n"
     ]
    }
   ],
   "source": [
    "product_df = spark.createDataFrame(product_list).toDF(\"prod_id\", \"prod_name\", \"list_price\", \"qty\")\n",
    "product_df.show()"
   ]
  },
  {
   "cell_type": "code",
   "execution_count": 7,
   "id": "94b1b4a5",
   "metadata": {},
   "outputs": [
    {
     "name": "stdout",
     "output_type": "stream",
     "text": [
      "+--------+-------+----------+---+-------+-------------------+----------+---+\n",
      "|order_id|prod_id|unit_price|qty|prod_id|          prod_name|list_price|qty|\n",
      "+--------+-------+----------+---+-------+-------------------+----------+---+\n",
      "|      01|     07|       320|  2|     07|32 GB Flash Storage|       320| 50|\n",
      "|      03|     01|       195|  1|     01|       Scroll Mouse|       250| 20|\n",
      "|      04|     08|       410|  2|     08|64 GB Flash Storage|       430| 25|\n",
      "|      02|     03|       450|  1|     03|     Wireless Mouse|       450| 50|\n",
      "|      01|     02|       350|  1|     02|      Optical Mouse|       350| 20|\n",
      "|      05|     02|       350|  1|     02|      Optical Mouse|       350| 20|\n",
      "|      02|     06|       220|  1|     06|16 GB Flash Storage|       240|100|\n",
      "|      01|     04|       580|  1|     04|  Wireless Keyboard|       580| 50|\n",
      "+--------+-------+----------+---+-------+-------------------+----------+---+\n",
      "\n"
     ]
    }
   ],
   "source": [
    "join_expr = order_df.prod_id == product_df.prod_id\n",
    "\n",
    "order_df.join(product_df, join_expr, \"inner\") \\\n",
    "                .show()"
   ]
  },
  {
   "cell_type": "markdown",
   "id": "5d434482",
   "metadata": {},
   "source": [
    "We get expected result.\n",
    "However we not want all columns. let select specifc columns\n",
    "\n",
    "order_df.join(product_df, join_expr, \"inner\") \\\n",
    ".select(\"order_id\", \"product_name\", \"unit_price\", \"qty\") \\\n",
    ".show()\n",
    "\n",
    "but both table have column with same name, it make confusion to spark and error generated\n",
    "but this ambuiguity diddnt happened when we select all\n",
    "\n",
    "order_df.join(product_df, join_expr, \"inner\") \\\n",
    ".select(*) \\\n",
    ".show()\n",
    "It worked. why?\n",
    "every column have unique id in catlog, spark internals using these id to refer columns hence select * worked. but when you use column name then create problem"
   ]
  },
  {
   "cell_type": "markdown",
   "id": "ba28d35c",
   "metadata": {},
   "source": [
    "1. Remove ambigues names before joining"
   ]
  },
  {
   "cell_type": "code",
   "execution_count": 9,
   "id": "094a0eff",
   "metadata": {},
   "outputs": [
    {
     "name": "stdout",
     "output_type": "stream",
     "text": [
      "+--------+-------------------+----------+---+\n",
      "|order_id|          prod_name|unit_price|qty|\n",
      "+--------+-------------------+----------+---+\n",
      "|      01|32 GB Flash Storage|       320|  2|\n",
      "|      03|       Scroll Mouse|       195|  1|\n",
      "|      04|64 GB Flash Storage|       410|  2|\n",
      "|      02|     Wireless Mouse|       450|  1|\n",
      "|      01|      Optical Mouse|       350|  1|\n",
      "|      05|      Optical Mouse|       350|  1|\n",
      "|      02|16 GB Flash Storage|       220|  1|\n",
      "|      01|  Wireless Keyboard|       580|  1|\n",
      "+--------+-------------------+----------+---+\n",
      "\n"
     ]
    }
   ],
   "source": [
    "product_renamed_df = product_df.withColumnRenamed(\"qty\", \"reorder_qty\")\n",
    "\n",
    "order_df.join(product_renamed_df, join_expr, \"inner\") \\\n",
    ".select(\"order_id\", \"prod_name\", \"unit_price\", \"qty\") \\\n",
    ".show()"
   ]
  },
  {
   "cell_type": "markdown",
   "id": "3e3186bc",
   "metadata": {},
   "source": [
    "2. drop ambigues column after join (we still have prod_id as ambigues column)\n",
    "\n",
    "order_df.join(product_renamed_df, join_expr, \"inner\") \\\n",
    ".select(\"order_id\",\"prod_name\", \"product_name\", \"unit_price\", \"qty\") \\\n",
    ".show()\n",
    "gets error"
   ]
  },
  {
   "cell_type": "code",
   "execution_count": 10,
   "id": "d8570b5c",
   "metadata": {},
   "outputs": [
    {
     "name": "stdout",
     "output_type": "stream",
     "text": [
      "+--------+-------+-------------------+----------+----------+---+\n",
      "|order_id|prod_id|          prod_name|unit_price|list_price|qty|\n",
      "+--------+-------+-------------------+----------+----------+---+\n",
      "|      01|     07|32 GB Flash Storage|       320|       320|  2|\n",
      "|      03|     01|       Scroll Mouse|       195|       250|  1|\n",
      "|      04|     08|64 GB Flash Storage|       410|       430|  2|\n",
      "|      02|     03|     Wireless Mouse|       450|       450|  1|\n",
      "|      01|     02|      Optical Mouse|       350|       350|  1|\n",
      "|      05|     02|      Optical Mouse|       350|       350|  1|\n",
      "|      02|     06|16 GB Flash Storage|       220|       240|  1|\n",
      "|      01|     04|  Wireless Keyboard|       580|       580|  1|\n",
      "+--------+-------+-------------------+----------+----------+---+\n",
      "\n"
     ]
    }
   ],
   "source": [
    "order_df.join(product_renamed_df, join_expr, \"inner\") \\\n",
    "        .drop(product_renamed_df.prod_id) \\\n",
    "        .select(\"order_id\", \"prod_id\", \"prod_name\", \"unit_price\", \"list_price\", \"qty\") \\\n",
    "        .show()"
   ]
  },
  {
   "cell_type": "code",
   "execution_count": 11,
   "id": "78748ac6",
   "metadata": {},
   "outputs": [],
   "source": [
    "spark.stop()"
   ]
  },
  {
   "cell_type": "code",
   "execution_count": null,
   "id": "8b907092",
   "metadata": {},
   "outputs": [],
   "source": []
  }
 ],
 "metadata": {
  "kernelspec": {
   "display_name": "Python 3",
   "language": "python",
   "name": "python3"
  },
  "language_info": {
   "codemirror_mode": {
    "name": "ipython",
    "version": 3
   },
   "file_extension": ".py",
   "mimetype": "text/x-python",
   "name": "python",
   "nbconvert_exporter": "python",
   "pygments_lexer": "ipython3",
   "version": "3.8.10"
  }
 },
 "nbformat": 4,
 "nbformat_minor": 5
}
