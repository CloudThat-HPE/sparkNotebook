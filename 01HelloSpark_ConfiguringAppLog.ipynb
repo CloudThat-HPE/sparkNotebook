{
 "cells": [
  {
   "cell_type": "code",
   "execution_count": 1,
   "id": "0759ac8a",
   "metadata": {},
   "outputs": [],
   "source": [
    "import findspark\n",
    "findspark.init() \n",
    "import pyspark\n",
    "from pyspark.sql import SparkSession"
   ]
  },
  {
   "cell_type": "code",
   "execution_count": 2,
   "id": "437876ad",
   "metadata": {},
   "outputs": [],
   "source": [
    "from lib.logger import Log4j"
   ]
  },
  {
   "cell_type": "code",
   "execution_count": 3,
   "id": "b68fef1e",
   "metadata": {},
   "outputs": [],
   "source": [
    "spark = SparkSession.builder.appName(\"HelloSpark\").master(\"local[3]\").getOrCreate()"
   ]
  },
  {
   "cell_type": "code",
   "execution_count": 4,
   "id": "8b115b17",
   "metadata": {},
   "outputs": [],
   "source": [
    "logger = Log4j(spark)"
   ]
  },
  {
   "cell_type": "code",
   "execution_count": 5,
   "id": "df79911b",
   "metadata": {},
   "outputs": [],
   "source": [
    "logger.info(\"Starting HelloSpark by my own\")"
   ]
  },
  {
   "cell_type": "code",
   "execution_count": 6,
   "id": "1c8bb40d",
   "metadata": {},
   "outputs": [
    {
     "name": "stdout",
     "output_type": "stream",
     "text": [
      "+----+--------+\n",
      "| age|    name|\n",
      "+----+--------+\n",
      "|null|Prashant|\n",
      "|  30|   Abdul|\n",
      "|  19|  Justin|\n",
      "|  43|    Andy|\n",
      "|null|Prashant|\n",
      "|  30|   Abdul|\n",
      "|  19|  Justin|\n",
      "|  43|    Andy|\n",
      "|null|Prashant|\n",
      "|  30|   Abdul|\n",
      "|  19|  Justin|\n",
      "|  43|    Andy|\n",
      "|null|Prashant|\n",
      "|  30|   Abdul|\n",
      "|  19|  Justin|\n",
      "|  43|    Andy|\n",
      "|null|Prashant|\n",
      "|  30|   Abdul|\n",
      "|  19|  Justin|\n",
      "|  43|    Andy|\n",
      "+----+--------+\n",
      "only showing top 20 rows\n",
      "\n"
     ]
    }
   ],
   "source": [
    "spark.read.json(\"data/people.json\").show()"
   ]
  },
  {
   "cell_type": "code",
   "execution_count": 7,
   "id": "e01836c6",
   "metadata": {},
   "outputs": [],
   "source": [
    "logger.info(\"Finished HelloSparkgggggggggggggggggggggggggggggggggggdfdfffsfwffsffsfsfsfsfsg\")"
   ]
  },
  {
   "cell_type": "code",
   "execution_count": 8,
   "id": "9b015ff4",
   "metadata": {},
   "outputs": [],
   "source": [
    "spark.stop()"
   ]
  },
  {
   "cell_type": "code",
   "execution_count": null,
   "id": "21b0f71d",
   "metadata": {},
   "outputs": [],
   "source": []
  }
 ],
 "metadata": {
  "kernelspec": {
   "display_name": "Python 3",
   "language": "python",
   "name": "python3"
  },
  "language_info": {
   "codemirror_mode": {
    "name": "ipython",
    "version": 3
   },
   "file_extension": ".py",
   "mimetype": "text/x-python",
   "name": "python",
   "nbconvert_exporter": "python",
   "pygments_lexer": "ipython3",
   "version": "3.8.10"
  }
 },
 "nbformat": 4,
 "nbformat_minor": 5
}
