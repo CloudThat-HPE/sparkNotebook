{
 "cells": [
  {
   "cell_type": "code",
   "execution_count": 1,
   "id": "0e21c76b",
   "metadata": {},
   "outputs": [],
   "source": [
    "import findspark\n",
    "findspark.init()\n",
    "\n",
    "import pyspark\n",
    "from pyspark.sql import *\n",
    "from pyspark.sql import functions as f\n",
    "from lib.logger import Log4j\n",
    "\n",
    "spark = SparkSession.builder \\\n",
    "            .master(\"local[3]\") \\\n",
    "            .appName(\"Misc Transformations\") \\\n",
    "            .getOrCreate()\n",
    "\n",
    "logger = Log4j(spark)"
   ]
  },
  {
   "cell_type": "code",
   "execution_count": 2,
   "id": "432623e1",
   "metadata": {},
   "outputs": [],
   "source": [
    "orders_list = [(\"01\", \"02\", 350, 1),\n",
    "                   (\"01\", \"04\", 580, 1),\n",
    "                   (\"01\", \"07\", 320, 2),\n",
    "                   (\"02\", \"03\", 450, 1),\n",
    "                   (\"02\", \"06\", 220, 1),\n",
    "                   (\"03\", \"01\", 195, 1),\n",
    "                   (\"04\", \"09\", 270, 3),\n",
    "                   (\"04\", \"08\", 410, 2),\n",
    "                   (\"05\", \"02\", 350, 1)]"
   ]
  },
  {
   "cell_type": "code",
   "execution_count": 3,
   "id": "9a05d7fc",
   "metadata": {},
   "outputs": [],
   "source": [
    "product_list = [(\"01\", \"Scroll Mouse\", 250, 20),\n",
    "                    (\"02\", \"Optical Mouse\", 350, 20),\n",
    "                    (\"03\", \"Wireless Mouse\", 450, 50),\n",
    "                    (\"04\", \"Wireless Keyboard\", 580, 50),\n",
    "                    (\"05\", \"Standard Keyboard\", 360, 10),\n",
    "                    (\"06\", \"16 GB Flash Storage\", 240, 100),\n",
    "                    (\"07\", \"32 GB Flash Storage\", 320, 50),\n",
    "                    (\"08\", \"64 GB Flash Storage\", 430, 25)]"
   ]
  },
  {
   "cell_type": "code",
   "execution_count": 4,
   "id": "fe375058",
   "metadata": {},
   "outputs": [
    {
     "name": "stdout",
     "output_type": "stream",
     "text": [
      "+--------+-------+----------+---+\n",
      "|order_id|prod_id|unit_price|qty|\n",
      "+--------+-------+----------+---+\n",
      "|      01|     02|       350|  1|\n",
      "|      01|     04|       580|  1|\n",
      "|      01|     07|       320|  2|\n",
      "|      02|     03|       450|  1|\n",
      "|      02|     06|       220|  1|\n",
      "|      03|     01|       195|  1|\n",
      "|      04|     09|       270|  3|\n",
      "|      04|     08|       410|  2|\n",
      "|      05|     02|       350|  1|\n",
      "+--------+-------+----------+---+\n",
      "\n"
     ]
    }
   ],
   "source": [
    "order_df = spark.createDataFrame(orders_list).toDF(\"order_id\", \"prod_id\", \"unit_price\", \"qty\")\n",
    "order_df.show()"
   ]
  },
  {
   "cell_type": "code",
   "execution_count": 5,
   "id": "3b2c09de",
   "metadata": {},
   "outputs": [
    {
     "name": "stdout",
     "output_type": "stream",
     "text": [
      "+-------+-------------------+----------+---+\n",
      "|prod_id|          prod_name|list_price|qty|\n",
      "+-------+-------------------+----------+---+\n",
      "|     01|       Scroll Mouse|       250| 20|\n",
      "|     02|      Optical Mouse|       350| 20|\n",
      "|     03|     Wireless Mouse|       450| 50|\n",
      "|     04|  Wireless Keyboard|       580| 50|\n",
      "|     05|  Standard Keyboard|       360| 10|\n",
      "|     06|16 GB Flash Storage|       240|100|\n",
      "|     07|32 GB Flash Storage|       320| 50|\n",
      "|     08|64 GB Flash Storage|       430| 25|\n",
      "+-------+-------------------+----------+---+\n",
      "\n"
     ]
    }
   ],
   "source": [
    "product_df = spark.createDataFrame(product_list).toDF(\"prod_id\", \"prod_name\", \"list_price\", \"qty\")\n",
    "product_df.show()"
   ]
  },
  {
   "cell_type": "code",
   "execution_count": 6,
   "id": "729e6adc",
   "metadata": {},
   "outputs": [],
   "source": [
    "join_expr = order_df.prod_id == product_df.prod_id"
   ]
  },
  {
   "cell_type": "markdown",
   "id": "dff75953",
   "metadata": {},
   "source": [
    "Full Outer Join"
   ]
  },
  {
   "cell_type": "code",
   "execution_count": 7,
   "id": "96ade99a",
   "metadata": {},
   "outputs": [
    {
     "name": "stdout",
     "output_type": "stream",
     "text": [
      "+--------+-------+----------+----+-------+-------------------+----------+----+\n",
      "|order_id|prod_id|unit_price| qty|prod_id|          prod_name|list_price| qty|\n",
      "+--------+-------+----------+----+-------+-------------------+----------+----+\n",
      "|      01|     07|       320|   2|     07|32 GB Flash Storage|       320|  50|\n",
      "|      03|     01|       195|   1|     01|       Scroll Mouse|       250|  20|\n",
      "|      04|     09|       270|   3|   null|               null|      null|null|\n",
      "|    null|   null|      null|null|     05|  Standard Keyboard|       360|  10|\n",
      "|      04|     08|       410|   2|     08|64 GB Flash Storage|       430|  25|\n",
      "|      02|     03|       450|   1|     03|     Wireless Mouse|       450|  50|\n",
      "|      01|     02|       350|   1|     02|      Optical Mouse|       350|  20|\n",
      "|      05|     02|       350|   1|     02|      Optical Mouse|       350|  20|\n",
      "|      02|     06|       220|   1|     06|16 GB Flash Storage|       240| 100|\n",
      "|      01|     04|       580|   1|     04|  Wireless Keyboard|       580|  50|\n",
      "+--------+-------+----------+----+-------+-------------------+----------+----+\n",
      "\n"
     ]
    }
   ],
   "source": [
    "order_df.join(product_df, join_expr, \"outer\") \\\n",
    "                .show()"
   ]
  },
  {
   "cell_type": "markdown",
   "id": "ef65844e",
   "metadata": {},
   "source": [
    "Left Outer Join"
   ]
  },
  {
   "cell_type": "code",
   "execution_count": 9,
   "id": "57e3d626",
   "metadata": {},
   "outputs": [
    {
     "name": "stdout",
     "output_type": "stream",
     "text": [
      "+--------+-------+-------------------+----------+----------+---+\n",
      "|order_id|prod_id|          prod_name|unit_price|list_price|qty|\n",
      "+--------+-------+-------------------+----------+----------+---+\n",
      "|      01|     07|32 GB Flash Storage|       320|       320|  2|\n",
      "|      01|     02|      Optical Mouse|       350|       350|  1|\n",
      "|      01|     04|  Wireless Keyboard|       580|       580|  1|\n",
      "|      02|     03|     Wireless Mouse|       450|       450|  1|\n",
      "|      02|     06|16 GB Flash Storage|       220|       240|  1|\n",
      "|      03|     01|       Scroll Mouse|       195|       250|  1|\n",
      "|      04|     08|64 GB Flash Storage|       410|       430|  2|\n",
      "|      04|     09|               null|       270|      null|  3|\n",
      "|      05|     02|      Optical Mouse|       350|       350|  1|\n",
      "+--------+-------+-------------------+----------+----------+---+\n",
      "\n"
     ]
    }
   ],
   "source": [
    "product_renamed_df = product_df.withColumnRenamed(\"qty\", \"reorder_qty\")\n",
    "\n",
    "order_df.join(product_renamed_df, join_expr, \"left\") \\\n",
    "        .drop(product_renamed_df.prod_id) \\\n",
    "        .select(\"order_id\", \"prod_id\", \"prod_name\", \"unit_price\", \"list_price\", \"qty\") \\\n",
    "        .sort(\"order_id\") \\\n",
    "        .show()"
   ]
  },
  {
   "cell_type": "markdown",
   "id": "96f4c11b",
   "metadata": {},
   "source": [
    "two null values\n",
    "in prod_name and lis_price can we replace it with prod_id and unit_price"
   ]
  },
  {
   "cell_type": "code",
   "execution_count": 10,
   "id": "856017eb",
   "metadata": {},
   "outputs": [
    {
     "name": "stdout",
     "output_type": "stream",
     "text": [
      "+--------+-------+-------------------+----------+----------+---+\n",
      "|order_id|prod_id|          prod_name|unit_price|list_price|qty|\n",
      "+--------+-------+-------------------+----------+----------+---+\n",
      "|      01|     04|  Wireless Keyboard|       580|       580|  1|\n",
      "|      01|     07|32 GB Flash Storage|       320|       320|  2|\n",
      "|      01|     02|      Optical Mouse|       350|       350|  1|\n",
      "|      02|     03|     Wireless Mouse|       450|       450|  1|\n",
      "|      02|     06|16 GB Flash Storage|       220|       240|  1|\n",
      "|      03|     01|       Scroll Mouse|       195|       250|  1|\n",
      "|      04|     09|                 09|       270|       270|  3|\n",
      "|      04|     08|64 GB Flash Storage|       410|       430|  2|\n",
      "|      05|     02|      Optical Mouse|       350|       350|  1|\n",
      "+--------+-------+-------------------+----------+----------+---+\n",
      "\n"
     ]
    }
   ],
   "source": [
    "from pyspark.sql.functions import expr\n",
    "\n",
    "order_df.join(product_renamed_df, join_expr, \"left\") \\\n",
    "        .drop(product_renamed_df.prod_id) \\\n",
    "        .select(\"order_id\", \"prod_id\", \"prod_name\", \"unit_price\", \"list_price\", \"qty\") \\\n",
    "        .withColumn(\"prod_name\", expr(\"coalesce(prod_name, prod_id)\")) \\\n",
    "        .withColumn(\"list_price\", expr(\"coalesce(list_price, unit_price)\")) \\\n",
    "        .sort(\"order_id\") \\\n",
    "        .show()"
   ]
  },
  {
   "cell_type": "code",
   "execution_count": 11,
   "id": "f35b73ae",
   "metadata": {},
   "outputs": [],
   "source": [
    "spark.stop()"
   ]
  },
  {
   "cell_type": "code",
   "execution_count": null,
   "id": "83241c60",
   "metadata": {},
   "outputs": [],
   "source": []
  }
 ],
 "metadata": {
  "kernelspec": {
   "display_name": "Python 3",
   "language": "python",
   "name": "python3"
  },
  "language_info": {
   "codemirror_mode": {
    "name": "ipython",
    "version": 3
   },
   "file_extension": ".py",
   "mimetype": "text/x-python",
   "name": "python",
   "nbconvert_exporter": "python",
   "pygments_lexer": "ipython3",
   "version": "3.8.10"
  }
 },
 "nbformat": 4,
 "nbformat_minor": 5
}
