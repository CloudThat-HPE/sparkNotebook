{
 "cells": [
  {
   "cell_type": "markdown",
   "id": "03b91db1",
   "metadata": {},
   "source": [
    "What is column and how to reference it\n",
    "How to create column expression"
   ]
  },
  {
   "cell_type": "code",
   "execution_count": 1,
   "id": "4538b45a",
   "metadata": {},
   "outputs": [],
   "source": [
    "import findspark\n",
    "findspark.init()\n",
    "\n",
    "import pyspark\n",
    "from pyspark.sql import SparkSession\n",
    "\n",
    "from lib.logger import Log4j\n",
    "\n",
    "spark = SparkSession \\\n",
    "            .builder \\\n",
    "            .master(\"local[3]\") \\\n",
    "            .appName(\"With Column Demo\") \\\n",
    "            .getOrCreate()\n",
    "\n",
    "logger = Log4j(spark)\n",
    "logger.info(\"Starting HelloSparkSQL\")"
   ]
  },
  {
   "cell_type": "code",
   "execution_count": 2,
   "id": "456b9213",
   "metadata": {},
   "outputs": [],
   "source": [
    "data = [\n",
    "    ('James','','Smith','1991-04-01','M',3000),\n",
    "    ('Michael','Rose','','2000-05-19','M',4000),\n",
    "    ('Robert','','Williams','1978-09-05','M',4000),\n",
    "    ('Maria','Anne','Jones','1967-12-01','F',4000),\n",
    "    ('Jen','Mary','Brown','1980-02-17','F',-1)\n",
    "]"
   ]
  },
  {
   "cell_type": "code",
   "execution_count": 3,
   "id": "0db30a41",
   "metadata": {},
   "outputs": [],
   "source": [
    "columns = [\"firstname\",\"middlename\",\"lastname\",\"dob\",\"gender\",\"salary\"]\n",
    "df = spark.createDataFrame(data=data, schema = columns)"
   ]
  },
  {
   "cell_type": "code",
   "execution_count": 4,
   "id": "4649fe18",
   "metadata": {},
   "outputs": [
    {
     "name": "stdout",
     "output_type": "stream",
     "text": [
      "+---------+----------+--------+----------+------+------+\n",
      "|firstname|middlename|lastname|       dob|gender|salary|\n",
      "+---------+----------+--------+----------+------+------+\n",
      "|    James|          |   Smith|1991-04-01|     M|  3000|\n",
      "|  Michael|      Rose|        |2000-05-19|     M|  4000|\n",
      "|   Robert|          |Williams|1978-09-05|     M|  4000|\n",
      "|    Maria|      Anne|   Jones|1967-12-01|     F|  4000|\n",
      "|      Jen|      Mary|   Brown|1980-02-17|     F|    -1|\n",
      "+---------+----------+--------+----------+------+------+\n",
      "\n",
      "root\n",
      " |-- firstname: string (nullable = true)\n",
      " |-- middlename: string (nullable = true)\n",
      " |-- lastname: string (nullable = true)\n",
      " |-- dob: string (nullable = true)\n",
      " |-- gender: string (nullable = true)\n",
      " |-- salary: long (nullable = true)\n",
      "\n"
     ]
    }
   ],
   "source": [
    "df.show(5)\n",
    "df.printSchema()"
   ]
  },
  {
   "cell_type": "markdown",
   "id": "5a9c4dc0",
   "metadata": {},
   "source": [
    "we can able to access column name using three method as mentioned below. with this we learn to refer indivisual column"
   ]
  },
  {
   "cell_type": "code",
   "execution_count": 8,
   "id": "9fd5aca5",
   "metadata": {},
   "outputs": [],
   "source": [
    "from pyspark.sql.functions import *"
   ]
  },
  {
   "cell_type": "code",
   "execution_count": 9,
   "id": "668e0526",
   "metadata": {},
   "outputs": [
    {
     "name": "stdout",
     "output_type": "stream",
     "text": [
      "+---------+--------+------+\n",
      "|firstname|lastname|gender|\n",
      "+---------+--------+------+\n",
      "|    James|   Smith|     M|\n",
      "|  Michael|        |     M|\n",
      "|   Robert|Williams|     M|\n",
      "|    Maria|   Jones|     F|\n",
      "|      Jen|   Brown|     F|\n",
      "+---------+--------+------+\n",
      "\n"
     ]
    }
   ],
   "source": [
    "df.select(column(\"firstname\"),col(\"lastname\"),df.gender).show(5)"
   ]
  },
  {
   "cell_type": "markdown",
   "id": "be9a8c5d",
   "metadata": {},
   "source": [
    "How to ceate column expressions. which are of two types\n",
    "1. String/SQL expressions\n",
    "2. Column Object Expression"
   ]
  },
  {
   "cell_type": "markdown",
   "id": "de2bf9e5",
   "metadata": {},
   "source": [
    "1. String/SQL Expression\n",
    "let refer the columns using string\n",
    "combine firstname lastname and middle name to form full name"
   ]
  },
  {
   "cell_type": "code",
   "execution_count": 10,
   "id": "8ca9d695",
   "metadata": {},
   "outputs": [
    {
     "name": "stdout",
     "output_type": "stream",
     "text": [
      "+---------+----------+--------+----------+------+\n",
      "|firstname|middlename|lastname|       dob|gender|\n",
      "+---------+----------+--------+----------+------+\n",
      "|    James|          |   Smith|1991-04-01|     M|\n",
      "|  Michael|      Rose|        |2000-05-19|     M|\n",
      "|   Robert|          |Williams|1978-09-05|     M|\n",
      "|    Maria|      Anne|   Jones|1967-12-01|     F|\n",
      "|      Jen|      Mary|   Brown|1980-02-17|     F|\n",
      "+---------+----------+--------+----------+------+\n",
      "\n"
     ]
    }
   ],
   "source": [
    "df.select(\"firstname\",\"middlename\",\"lastname\",\"dob\",\"gender\").show()"
   ]
  },
  {
   "cell_type": "markdown",
   "id": "a5896ce8",
   "metadata": {},
   "source": [
    "Column Object Expression"
   ]
  },
  {
   "cell_type": "code",
   "execution_count": 11,
   "id": "2d79a11b",
   "metadata": {},
   "outputs": [
    {
     "name": "stdout",
     "output_type": "stream",
     "text": [
      "+--------------+----------+------+\n",
      "|      fullName|       dob|gender|\n",
      "+--------------+----------+------+\n",
      "|    JamesSmith|1991-04-01|     M|\n",
      "|   MichaelRose|2000-05-19|     M|\n",
      "|RobertWilliams|1978-09-05|     M|\n",
      "|MariaAnneJones|1967-12-01|     F|\n",
      "|  JenMaryBrown|1980-02-17|     F|\n",
      "+--------------+----------+------+\n",
      "\n"
     ]
    }
   ],
   "source": [
    "from pyspark.sql.functions import *\n",
    "df.select(concat(df.firstname,df.middlename,df.lastname) .alias(\"fullName\"),\"dob\",\"gender\").show()"
   ]
  },
  {
   "cell_type": "markdown",
   "id": "142cf946",
   "metadata": {},
   "source": [
    "String Expression"
   ]
  },
  {
   "cell_type": "code",
   "execution_count": 12,
   "id": "613820f7",
   "metadata": {},
   "outputs": [
    {
     "name": "stdout",
     "output_type": "stream",
     "text": [
      "+---------------------------------------+----------+------+\n",
      "|concat(firstname, middlename, lastname)|       dob|gender|\n",
      "+---------------------------------------+----------+------+\n",
      "|                             JamesSmith|1991-04-01|     M|\n",
      "|                            MichaelRose|2000-05-19|     M|\n",
      "|                         RobertWilliams|1978-09-05|     M|\n",
      "|                         MariaAnneJones|1967-12-01|     F|\n",
      "|                           JenMaryBrown|1980-02-17|     F|\n",
      "+---------------------------------------+----------+------+\n",
      "\n"
     ]
    }
   ],
   "source": [
    "df.select(concat(\"firstname\",\"middlename\",\"lastname\"),\"dob\",\"gender\").show()"
   ]
  },
  {
   "cell_type": "code",
   "execution_count": 13,
   "id": "97708928",
   "metadata": {},
   "outputs": [
    {
     "data": {
      "text/plain": [
       "DataFrame[firstname: string, middlename: string, lastname: string, dob: date, gender: string, salary: bigint]"
      ]
     },
     "execution_count": 13,
     "metadata": {},
     "output_type": "execute_result"
    }
   ],
   "source": [
    "from pyspark.sql.functions import *\n",
    "df.withColumn(\"salary\",col(\"salary\").cast(\"Integer\"))\n",
    "df.withColumn(\"dob\",col(\"dob\").cast(\"DATE\"))"
   ]
  },
  {
   "cell_type": "code",
   "execution_count": 14,
   "id": "0aa224ba",
   "metadata": {},
   "outputs": [],
   "source": [
    "spark.stop()"
   ]
  },
  {
   "cell_type": "code",
   "execution_count": null,
   "id": "f6f1b072",
   "metadata": {},
   "outputs": [],
   "source": []
  }
 ],
 "metadata": {
  "kernelspec": {
   "display_name": "Python 3",
   "language": "python",
   "name": "python3"
  },
  "language_info": {
   "codemirror_mode": {
    "name": "ipython",
    "version": 3
   },
   "file_extension": ".py",
   "mimetype": "text/x-python",
   "name": "python",
   "nbconvert_exporter": "python",
   "pygments_lexer": "ipython3",
   "version": "3.8.10"
  }
 },
 "nbformat": 4,
 "nbformat_minor": 5
}
