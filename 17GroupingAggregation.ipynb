{
 "cells": [
  {
   "cell_type": "markdown",
   "id": "00f734bc",
   "metadata": {},
   "source": [
    "county weekno noofInvoice Totalqauntity and invoicevalue\n",
    "first two are grouping column and remaining are aggregate columns \n",
    "however you dont have weekno - but you have invoicedate that you transform to weekno we have builtit function for it\n",
    "NUofinvoice - countdistinct\n",
    "Sum of qautity is totalqauntity\n",
    "invoice value is qauntity into unitprice"
   ]
  },
  {
   "cell_type": "code",
   "execution_count": 1,
   "id": "b2db2dcc",
   "metadata": {},
   "outputs": [],
   "source": [
    "import findspark\n",
    "findspark.init()\n",
    "\n",
    "import pyspark\n",
    "from pyspark.sql import *\n",
    "from pyspark.sql import functions as f\n",
    "\n",
    "spark = SparkSession.builder \\\n",
    "            .master(\"local[3]\") \\\n",
    "            .appName(\"Misc Transformations\") \\\n",
    "            .getOrCreate()"
   ]
  },
  {
   "cell_type": "code",
   "execution_count": 2,
   "id": "94bf460c",
   "metadata": {},
   "outputs": [],
   "source": [
    "invoice_df = spark.read \\\n",
    "        .format(\"csv\") \\\n",
    "        .option(\"header\", \"true\") \\\n",
    "        .option(\"inferSchema\", \"true\") \\\n",
    "        .load(\"data/invoices.csv\")"
   ]
  },
  {
   "cell_type": "code",
   "execution_count": 3,
   "id": "fc014e25",
   "metadata": {},
   "outputs": [],
   "source": [
    "# lets define three aggregation as varibale\n",
    "NumInvoices = f.countDistinct(\"InvoiceNo\").alias(\"NumInvoices\")\n",
    "TotalQuantity = f.sum(\"Quantity\").alias(\"TotalQuantity\")\n",
    "InvoiceValue = f.expr(\"round(sum(Quantity * UnitPrice),2) as InvoiceValue\")"
   ]
  },
  {
   "cell_type": "markdown",
   "id": "d2fe562c",
   "metadata": {},
   "source": [
    "Covert the string date into date field to get date in format to calculate weekno\n",
    "exSummary_df = invoice_df \\\n",
    "        .withColumn(\"InvoiceDate\", f.to_date(f.col(\"InvoiceDate\"), \"dd-MM-yyyy H.mm\")) \\ # Invoice date is in proper date type\n",
    "        #sample data littel big for aggregating for single computer lets select specific(not needed but for time constraint required)\n",
    "        .where(\"year(InvoiceDate) == 2010\") \\\n",
    "        .withColumn(\"WeekNumber\", f.weekofyear(f.col(\"InvoiceDate\"))) \\ #toadd new column extracting weekno is as simple as using weekofyear function\n",
    "        .groupBy(\"Country\", \"WeekNumber\") \\ #groupby country and weekno\n",
    "        .agg(NumInvoices, TotalQuantity, InvoiceValue)"
   ]
  },
  {
   "cell_type": "code",
   "execution_count": 4,
   "id": "f1418506",
   "metadata": {},
   "outputs": [],
   "source": [
    "exSummary_df = invoice_df \\\n",
    "        .withColumn(\"InvoiceDate\", f.to_date(f.col(\"InvoiceDate\"), \"dd-MM-yyyy H.mm\")) \\\n",
    "        .where(\"year(InvoiceDate) == 2010\") \\\n",
    "        .withColumn(\"WeekNumber\", f.weekofyear(f.col(\"InvoiceDate\"))) \\\n",
    "        .groupBy(\"Country\", \"WeekNumber\") \\\n",
    "        .agg(NumInvoices, TotalQuantity, InvoiceValue)"
   ]
  },
  {
   "cell_type": "code",
   "execution_count": 5,
   "id": "65d3e75a",
   "metadata": {},
   "outputs": [],
   "source": [
    "# save this data file as parquet file and use it in next\n",
    "exSummary_df.coalesce(1) \\\n",
    "        .write \\\n",
    "        .format(\"parquet\") \\\n",
    "        .mode(\"overwrite\") \\\n",
    "        .save(\"output\")"
   ]
  },
  {
   "cell_type": "code",
   "execution_count": 6,
   "id": "a0061aba",
   "metadata": {},
   "outputs": [
    {
     "name": "stdout",
     "output_type": "stream",
     "text": [
      "+---------------+----------+-----------+-------------+------------+\n",
      "|        Country|WeekNumber|NumInvoices|TotalQuantity|InvoiceValue|\n",
      "+---------------+----------+-----------+-------------+------------+\n",
      "|      Australia|        48|          1|          107|      358.25|\n",
      "|      Australia|        49|          1|          214|       258.9|\n",
      "|      Australia|        50|          2|          133|      387.95|\n",
      "|        Austria|        50|          2|            3|      257.04|\n",
      "|        Bahrain|        51|          1|           54|      205.74|\n",
      "|        Belgium|        48|          1|          528|       346.1|\n",
      "|        Belgium|        50|          2|          285|      625.16|\n",
      "|        Belgium|        51|          2|          942|      838.65|\n",
      "|Channel Islands|        49|          1|           80|      363.53|\n",
      "|         Cyprus|        50|          1|          917|     1590.82|\n",
      "|        Denmark|        49|          1|          454|      1281.5|\n",
      "|           EIRE|        48|          7|         2822|     3147.23|\n",
      "|           EIRE|        49|          5|         1280|      3284.1|\n",
      "|           EIRE|        50|          5|         1184|     2321.78|\n",
      "|           EIRE|        51|          5|           95|      276.84|\n",
      "|        Finland|        50|          1|         1254|       892.8|\n",
      "|         France|        48|          4|         1299|     2808.16|\n",
      "|         France|        49|          9|         2303|     4527.01|\n",
      "|         France|        50|          6|          529|      537.32|\n",
      "|         France|        51|          5|          847|     1702.87|\n",
      "+---------------+----------+-----------+-------------+------------+\n",
      "only showing top 20 rows\n",
      "\n"
     ]
    }
   ],
   "source": [
    "# sort datframe and show\n",
    "exSummary_df.sort(\"Country\", \"WeekNumber\").show()"
   ]
  },
  {
   "cell_type": "code",
   "execution_count": null,
   "id": "80e7e6cb",
   "metadata": {},
   "outputs": [],
   "source": [
    "spark.stop()"
   ]
  },
  {
   "cell_type": "code",
   "execution_count": null,
   "id": "06912b54",
   "metadata": {},
   "outputs": [],
   "source": []
  }
 ],
 "metadata": {
  "kernelspec": {
   "display_name": "Python 3",
   "language": "python",
   "name": "python3"
  },
  "language_info": {
   "codemirror_mode": {
    "name": "ipython",
    "version": 3
   },
   "file_extension": ".py",
   "mimetype": "text/x-python",
   "name": "python",
   "nbconvert_exporter": "python",
   "pygments_lexer": "ipython3",
   "version": "3.8.10"
  }
 },
 "nbformat": 4,
 "nbformat_minor": 5
}
