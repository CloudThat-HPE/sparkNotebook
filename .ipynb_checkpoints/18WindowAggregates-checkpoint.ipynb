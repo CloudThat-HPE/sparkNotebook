{
 "cells": [
  {
   "attachments": {},
   "cell_type": "markdown",
   "id": "286a4a4f",
   "metadata": {},
   "source": [
    "Will extend previous result by adding new column shows running total for every week for each country. \n",
    "we cannot achieve it by simple grouping and aggregation.\n",
    "these kind of aggregates called window aggregates\n",
    "\n",
    "this could achive that partitioning records with country and sort it by week no cuse we want wek by week total for each country separately.\n",
    "\n",
    "three step process\n",
    "1. Identify partitioning of columns\n",
    "2. Identify ordering requiement\n",
    "3. Define your window start and end\n"
   ]
  },
  {
   "cell_type": "code",
   "execution_count": 1,
   "id": "3ae44336",
   "metadata": {},
   "outputs": [],
   "source": [
    "import findspark\n",
    "findspark.init()\n",
    "\n",
    "import pyspark\n",
    "from pyspark.sql import *\n",
    "from pyspark.sql import functions as f\n",
    "\n",
    "spark = SparkSession.builder \\\n",
    "            .master(\"local[3]\") \\\n",
    "            .appName(\"Misc Transformations\") \\\n",
    "            .getOrCreate()"
   ]
  },
  {
   "cell_type": "code",
   "execution_count": 2,
   "id": "20f4ab24",
   "metadata": {},
   "outputs": [],
   "source": [
    "summary_df = spark.read.parquet(\"data/summary.parquet\")"
   ]
  },
  {
   "cell_type": "code",
   "execution_count": 3,
   "id": "7905d4d2",
   "metadata": {},
   "outputs": [],
   "source": [
    "running_total_window = Window.partitionBy(\"Country\") \\\n",
    "        .orderBy(\"WeekNumber\") \\\n",
    "        .rowsBetween(Window.unboundedPreceding, Window.currentRow)"
   ]
  },
  {
   "cell_type": "markdown",
   "id": "80bdf931",
   "metadata": {},
   "source": [
    "in above cell, we defined three thing\n",
    "window using window object over country\n",
    "orderby weekno\n"
   ]
  },
  {
   "cell_type": "code",
   "execution_count": 4,
   "id": "53861989",
   "metadata": {},
   "outputs": [
    {
     "name": "stdout",
     "output_type": "stream",
     "text": [
      "+-------+----------+-----------+-------------+------------+------------------+\n",
      "|Country|WeekNumber|NumInvoices|TotalQuantity|InvoiceValue|      RunningTotal|\n",
      "+-------+----------+-----------+-------------+------------+------------------+\n",
      "| Sweden|        50|          3|         3714|      2646.3|            2646.3|\n",
      "|Germany|        48|         11|         1795|     3309.75|           3309.75|\n",
      "|Germany|        49|         12|         1852|     4521.39|           7831.14|\n",
      "|Germany|        50|         15|         1973|     5065.79|          12896.93|\n",
      "|Germany|        51|          5|         1103|     1665.91|          14562.84|\n",
      "| France|        48|          4|         1299|     2808.16|           2808.16|\n",
      "| France|        49|          9|         2303|     4527.01|           7335.17|\n",
      "| France|        50|          6|          529|      537.32|           7872.49|\n",
      "| France|        51|          5|          847|     1702.87|           9575.36|\n",
      "|Belgium|        48|          1|          528|       346.1|             346.1|\n",
      "|Belgium|        50|          2|          285|      625.16|            971.26|\n",
      "|Belgium|        51|          2|          942|      838.65|1809.9099999999999|\n",
      "|Finland|        50|          1|         1254|       892.8|             892.8|\n",
      "|  Italy|        48|          1|          164|       427.8|             427.8|\n",
      "|  Italy|        49|          1|           -2|       -17.0|             410.8|\n",
      "|  Italy|        51|          1|          131|       383.7|             794.5|\n",
      "|   EIRE|        48|          7|         2822|     3147.23|           3147.23|\n",
      "|   EIRE|        49|          5|         1280|      3284.1|           6431.33|\n",
      "|   EIRE|        50|          5|         1184|     2321.78|           8753.11|\n",
      "|   EIRE|        51|          5|           95|      276.84|           9029.95|\n",
      "+-------+----------+-----------+-------------+------------+------------------+\n",
      "only showing top 20 rows\n",
      "\n"
     ]
    }
   ],
   "source": [
    "summary_df.withColumn(\"RunningTotal\",\n",
    "                    f.sum(\"InvoiceValue\").over(running_total_window)) \\\n",
    "          .show()"
   ]
  },
  {
   "cell_type": "code",
   "execution_count": null,
   "id": "04279085",
   "metadata": {},
   "outputs": [],
   "source": [
    "spark.stop()"
   ]
  }
 ],
 "metadata": {
  "kernelspec": {
   "display_name": "Python 3",
   "language": "python",
   "name": "python3"
  },
  "language_info": {
   "codemirror_mode": {
    "name": "ipython",
    "version": 3
   },
   "file_extension": ".py",
   "mimetype": "text/x-python",
   "name": "python",
   "nbconvert_exporter": "python",
   "pygments_lexer": "ipython3",
   "version": "3.8.10"
  }
 },
 "nbformat": 4,
 "nbformat_minor": 5
}
