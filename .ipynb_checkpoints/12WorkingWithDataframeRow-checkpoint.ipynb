{
 "cells": [
  {
   "cell_type": "markdown",
   "id": "ea0d94e6",
   "metadata": {},
   "source": [
    "Dataframe is collection of object row. each row object is represent one record for all columns.\n",
    "Three Scenarion where you will work with row object\n",
    "1. Manually creating row and dataframe\n",
    "2. Collecting dataframe rows to driver\n",
    "3. work with an indivisual row to apply transformation\n",
    "\n",
    "###### Lets simulate scenarion 1 and 2"
   ]
  },
  {
   "cell_type": "code",
   "execution_count": 1,
   "id": "a2d84c0a",
   "metadata": {},
   "outputs": [],
   "source": [
    "import findspark\n",
    "findspark.init()\n",
    "\n",
    "import pyspark\n",
    "from pyspark.sql import SparkSession\n",
    "\n",
    "from lib.logger import Log4j\n",
    "\n",
    "spark = SparkSession \\\n",
    "            .builder \\\n",
    "            .master(\"local[3]\") \\\n",
    "            .appName(\"Row Demo\") \\\n",
    "            .getOrCreate()\n",
    "\n",
    "logger = Log4j(spark)\n",
    "logger.info(\"Starting HelloSparkSQL\")"
   ]
  },
  {
   "cell_type": "code",
   "execution_count": 2,
   "id": "5bce6087",
   "metadata": {},
   "outputs": [],
   "source": [
    "from pyspark.sql.functions import *\n",
    "\n",
    "def to_date_df(df, fmt, fld):\n",
    "    return df.withColumn(fld, to_date(fld, fmt))"
   ]
  },
  {
   "cell_type": "code",
   "execution_count": 4,
   "id": "aee9731c",
   "metadata": {},
   "outputs": [],
   "source": [
    "from pyspark.sql.types import *"
   ]
  },
  {
   "cell_type": "code",
   "execution_count": 5,
   "id": "ef2846ea",
   "metadata": {},
   "outputs": [],
   "source": [
    "my_schema = StructType([StructField(\"ID\", StringType()),StructField(\"EventDate\", StringType())])"
   ]
  },
  {
   "cell_type": "code",
   "execution_count": 6,
   "id": "68ae1a31",
   "metadata": {},
   "outputs": [],
   "source": [
    "from pyspark.sql.types import Row\n",
    "my_rows = [Row(\"123\", \"04/05/2020\"), Row(\"124\", \"4/5/2020\"), Row(\"125\", \"04/5/2020\"), Row(\"126\", \"4/05/2020\")]"
   ]
  },
  {
   "cell_type": "code",
   "execution_count": 7,
   "id": "477157a3",
   "metadata": {},
   "outputs": [],
   "source": [
    "my_rdd = spark.sparkContext.parallelize(my_rows, 2)"
   ]
  },
  {
   "cell_type": "code",
   "execution_count": 8,
   "id": "62d87152",
   "metadata": {},
   "outputs": [],
   "source": [
    "my_df = spark.createDataFrame(my_rdd, my_schema)"
   ]
  },
  {
   "cell_type": "code",
   "execution_count": 9,
   "id": "b6ff86c9",
   "metadata": {},
   "outputs": [
    {
     "name": "stdout",
     "output_type": "stream",
     "text": [
      "root\n",
      " |-- ID: string (nullable = true)\n",
      " |-- EventDate: string (nullable = true)\n",
      "\n"
     ]
    }
   ],
   "source": [
    "my_df.printSchema()"
   ]
  },
  {
   "cell_type": "code",
   "execution_count": 10,
   "id": "1b4d475b",
   "metadata": {},
   "outputs": [
    {
     "name": "stdout",
     "output_type": "stream",
     "text": [
      "+---+----------+\n",
      "| ID| EventDate|\n",
      "+---+----------+\n",
      "|123|04/05/2020|\n",
      "|124|  4/5/2020|\n",
      "|125| 04/5/2020|\n",
      "|126| 4/05/2020|\n",
      "+---+----------+\n",
      "\n"
     ]
    }
   ],
   "source": [
    "my_df.show()"
   ]
  },
  {
   "cell_type": "code",
   "execution_count": 11,
   "id": "6532f4d6",
   "metadata": {},
   "outputs": [],
   "source": [
    "new_df = to_date_df(my_df, \"M/d/y\", \"EventDate\")"
   ]
  },
  {
   "cell_type": "code",
   "execution_count": 12,
   "id": "f1016015",
   "metadata": {},
   "outputs": [
    {
     "name": "stdout",
     "output_type": "stream",
     "text": [
      "root\n",
      " |-- ID: string (nullable = true)\n",
      " |-- EventDate: date (nullable = true)\n",
      "\n"
     ]
    }
   ],
   "source": [
    "new_df.printSchema()"
   ]
  },
  {
   "cell_type": "code",
   "execution_count": 13,
   "id": "1aed3e58",
   "metadata": {},
   "outputs": [
    {
     "name": "stdout",
     "output_type": "stream",
     "text": [
      "+---+----------+\n",
      "| ID| EventDate|\n",
      "+---+----------+\n",
      "|123|2020-04-05|\n",
      "|124|2020-04-05|\n",
      "|125|2020-04-05|\n",
      "|126|2020-04-05|\n",
      "+---+----------+\n",
      "\n"
     ]
    }
   ],
   "source": [
    "new_df.show()"
   ]
  },
  {
   "cell_type": "code",
   "execution_count": 14,
   "id": "acd86958",
   "metadata": {},
   "outputs": [],
   "source": [
    "spark.stop()"
   ]
  },
  {
   "cell_type": "markdown",
   "id": "8d8f8c7d",
   "metadata": {},
   "source": [
    "###### Work With an Indivisual row\n",
    "Spark Dataframe offers bunch of transformation functions \n",
    "https://spark.apache.org/docs/latest/rdd-programming-guide.html#transformations\n",
    "\n",
    "You will be using these methods if your data has schema.\n",
    "What if you do not have proper schema?\n",
    "we need to take an extra step to create columnar structure and then apply transformations. \n",
    "In this cases you need to start working with row only and then transform it to columnar structure.\n"
   ]
  },
  {
   "cell_type": "code",
   "execution_count": 15,
   "id": "78363a3d",
   "metadata": {},
   "outputs": [],
   "source": [
    "import findspark\n",
    "findspark.init()\n",
    "\n",
    "import pyspark\n",
    "from pyspark.sql import SparkSession\n",
    "\n",
    "from lib.logger import Log4j\n",
    "\n",
    "spark = SparkSession \\\n",
    "            .builder \\\n",
    "            .master(\"local[3]\") \\\n",
    "            .appName(\"Row Demo\") \\\n",
    "            .getOrCreate()\n",
    "\n",
    "logger = Log4j(spark)\n",
    "logger.info(\"Starting HelloSparkSQL\")"
   ]
  },
  {
   "cell_type": "code",
   "execution_count": 16,
   "id": "a445ff11",
   "metadata": {},
   "outputs": [
    {
     "name": "stdout",
     "output_type": "stream",
     "text": [
      "root\n",
      " |-- value: string (nullable = true)\n",
      "\n"
     ]
    }
   ],
   "source": [
    "file_df = spark.read.text(\"data/apache_logs.txt\")\n",
    "file_df.printSchema()"
   ]
  },
  {
   "cell_type": "markdown",
   "id": "df7f43a5",
   "metadata": {},
   "source": [
    "Now you see it has single row of string type no columns.\n",
    "\n",
    "We need to find a way to extract welll defined field.\n",
    "Can we use regular expresion here?\n",
    "lets look at data... This data is apache . log comes with IP Client user datetime cmd request protocol status bytes referrer useragents like info. we can extract all these fields using regexp "
   ]
  },
  {
   "cell_type": "code",
   "execution_count": 17,
   "id": "c65b4a26",
   "metadata": {},
   "outputs": [],
   "source": [
    "log_reg = r'^(\\S+) (\\S+) (\\S+) \\[([\\w:/]+\\s[+\\-]\\d{4})\\] \"(\\S+) (\\S+) (\\S+)\" (\\d{3}) (\\S+) \"(\\S+)\" \"([^\"]*)'"
   ]
  },
  {
   "cell_type": "markdown",
   "id": "5d5fd5ce",
   "metadata": {},
   "source": [
    "create dataframe with only four fields."
   ]
  },
  {
   "cell_type": "code",
   "execution_count": 18,
   "id": "c7c56dfb",
   "metadata": {},
   "outputs": [],
   "source": [
    "logs_df = file_df.select(regexp_extract('value', log_reg, 1).alias('ip'),\n",
    "                             regexp_extract('value', log_reg, 4).alias('date'),\n",
    "                             regexp_extract('value', log_reg, 6).alias('request'),\n",
    "                             regexp_extract('value', log_reg, 10).alias('referrer'))"
   ]
  },
  {
   "cell_type": "markdown",
   "id": "8ec60104",
   "metadata": {},
   "source": [
    "use select method with regexp_extract method which has three arguments. 1. source string or field name 2. regexp 3. filed no."
   ]
  },
  {
   "cell_type": "code",
   "execution_count": 19,
   "id": "07ff9a4b",
   "metadata": {},
   "outputs": [
    {
     "name": "stdout",
     "output_type": "stream",
     "text": [
      "root\n",
      " |-- ip: string (nullable = true)\n",
      " |-- date: string (nullable = true)\n",
      " |-- request: string (nullable = true)\n",
      " |-- referrer: string (nullable = true)\n",
      "\n"
     ]
    }
   ],
   "source": [
    "logs_df.printSchema()"
   ]
  },
  {
   "cell_type": "code",
   "execution_count": 20,
   "id": "3de14dae",
   "metadata": {
    "scrolled": false
   },
   "outputs": [
    {
     "name": "stdout",
     "output_type": "stream",
     "text": [
      "+---------------------------------------------------------------------------------------------------------------------------------------------------------------------------------------------------------------------------------------------------------------------------------------------------------------------------------------------------------------------------------------------------------------------------------------------------------------------------------------------------------------------------------------------------------------------------------------------------------------------------------------------------------------------------------------------------------------------------------------------------------------------------------------------------------------------------------------+-----+\n",
      "|referrer                                                                                                                                                                                                                                                                                                                                                                                                                                                                                                                                                                                                                                                                                                                                                                                                                               |count|\n",
      "+---------------------------------------------------------------------------------------------------------------------------------------------------------------------------------------------------------------------------------------------------------------------------------------------------------------------------------------------------------------------------------------------------------------------------------------------------------------------------------------------------------------------------------------------------------------------------------------------------------------------------------------------------------------------------------------------------------------------------------------------------------------------------------------------------------------------------------------+-----+\n",
      "|http://www.semicomplete.com/blog/tags/wifi                                                                                                                                                                                                                                                                                                                                                                                                                                                                                                                                                                                                                                                                                                                                                                                             |1    |\n",
      "|http://manpages.ubuntu.com/manpages/lucid/man1/xdotool.1.html                                                                                                                                                                                                                                                                                                                                                                                                                                                                                                                                                                                                                                                                                                                                                                          |2    |\n",
      "|http://s-chassis.co.nz/viewtopic.php?f=16&t=9265&sid=fad3ad046ddaa63e65cda6e4e0033c19&start=200                                                                                                                                                                                                                                                                                                                                                                                                                                                                                                                                                                                                                                                                                                                                        |1    |\n",
      "|https://www.google.sk/                                                                                                                                                                                                                                                                                                                                                                                                                                                                                                                                                                                                                                                                                                                                                                                                                 |1    |\n",
      "|http://www.semicomplete.com/projects/keynav/                                                                                                                                                                                                                                                                                                                                                                                                                                                                                                                                                                                                                                                                                                                                                                                           |65   |\n",
      "|http://superuser.com/questions/355151/is-it-possible-to-remap-the-back-forward-keys-of-a-thinkpad-usb-keyboard-on-linu                                                                                                                                                                                                                                                                                                                                                                                                                                                                                                                                                                                                                                                                                                                 |1    |\n",
      "|https://www.google.ca/                                                                                                                                                                                                                                                                                                                                                                                                                                                                                                                                                                                                                                                                                                                                                                                                                 |3    |\n",
      "|http://www.google.de/url?sa=t&rct=j&q=&esrc=s&source=web&cd=3&ved=0CEQQFjAC&url=http%3A%2F%2Fwww.semicomplete.com%2Fprojects%2Fxdotool%2Fxdotool.xhtml&ei=McABU6wigeSzBsLHgPgD&usg=AFQjCNFwZFAI0RQdN_N0kFH-oj8cLsJRNQ&sig2=LnDMQF5vMR-npBDUsQHl9w                                                                                                                                                                                                                                                                                                                                                                                                                                                                                                                                                                                      |1    |\n",
      "|http://www.google.it/url?sa=t&rct=j&q=&esrc=s&source=web&cd=1&ved=0CC8QFjAA&url=http%3A%2F%2Fwww.semicomplete.com%2Fprojects%2Fxdotool%2F&ei=gdwBU-XuOKjpywPB7YCgCA&usg=AFQjCNE3V_aCf3-gfNcbS924S6jZ6FqffA&bvm=bv.61535280,d.bGQ                                                                                                                                                                                                                                                                                                                                                                                                                                                                                                                                                                                                       |1    |\n",
      "|http://www.google.com.ar/url?sa=t&rct=j&q=&esrc=s&source=web&cd=3&ved=0CDoQFjAC&url=http%3A%2F%2Fwww.semicomplete.com%2Fprojects%2Fxdotool%2Fxdotool.xhtml&ei=aD4CU_ezDKyO1AHQwICoAg&usg=AFQjCNFwZFAI0RQdN_N0kFH-oj8cLsJRNQ&sig2=Ha9w0FWkUYWoe9GKnQ24Gw&bvm=bv.61535280,d.dmQ                                                                                                                                                                                                                                                                                                                                                                                                                                                                                                                                                          |2    |\n",
      "|http://www.bing.com/images/search?&q=www%2fgoogle.com&qft=+filterui:photo-photo&FORM=R5IR21                                                                                                                                                                                                                                                                                                                                                                                                                                                                                                                                                                                                                                                                                                                                            |1    |\n",
      "|http://www.semicomplete.com/presentations/logstash-blah/images/office-space-printer-beat-down-gif.gif                                                                                                                                                                                                                                                                                                                                                                                                                                                                                                                                                                                                                                                                                                                                  |1    |\n",
      "|http://www.raspberrypi-spanish.es/foro/viewtopic.php?f=9&t=15                                                                                                                                                                                                                                                                                                                                                                                                                                                                                                                                                                                                                                                                                                                                                                          |1    |\n",
      "|http://www.semicomplete.com/blog/geekery/show-headers-in-get-request.html                                                                                                                                                                                                                                                                                                                                                                                                                                                                                                                                                                                                                                                                                                                                                              |4    |\n",
      "|http://www.google.ca/url?sa=t&rct=j&q=&esrc=s&source=web&cd=1&ved=0CCgQFjAA&url=http%3A%2F%2Fwww.semicomplete.com%2Farticles%2Fssh-security%2F&ei=fwQCU-e8IMOcyQHwiIGoBw&usg=AFQjCNHWyA_svkWgk70ovEbZidQhlAC84w&bvm=bv.61535280,d.aWc                                                                                                                                                                                                                                                                                                                                                                                                                                                                                                                                                                                                  |1    |\n",
      "|http://www.semicomplete.com/files/xdotool/docs/man/man3/                                                                                                                                                                                                                                                                                                                                                                                                                                                                                                                                                                                                                                                                                                                                                                               |2    |\n",
      "|http://www.bing.com/images/search?q=httpwwwgoogle.&id=7EF7BAD1786BD1666197CDB11326F6D5120C0174&FORM=IQFRBA                                                                                                                                                                                                                                                                                                                                                                                                                                                                                                                                                                                                                                                                                                                             |1    |\n",
      "|http://www.google.se/url?sa=t&rct=j&q=&esrc=s&source=web&cd=1&ved=0CCgQFjAA&url=http%3A%2F%2Fwww.semicomplete.com%2Fblog%2Fgeekery%2Fpython-packages-as-rpm.html&ei=hgUCU8LrH8GD4gT5zICQCA&usg=AFQjCNFjLzIsUiYXkWnxl0JvY_Ie1VSKVw&sig2=EImFVwzbkWS20G6g3uBwcw&bvm=bv.61535280,d.bGE&cad=rja                                                                                                                                                                                                                                                                                                                                                                                                                                                                                                                                            |1    |\n",
      "|https://www.google.com/search?q=proxy+50na50                                                                                                                                                                                                                                                                                                                                                                                                                                                                                                                                                                                                                                                                                                                                                                                           |1    |\n",
      "|http://www.semicomplete.com/blog/geekery/debugging-java-performance.html                                                                                                                                                                                                                                                                                                                                                                                                                                                                                                                                                                                                                                                                                                                                                               |65   |\n",
      "|http://www.linux.org.ru/forum/general/8028503                                                                                                                                                                                                                                                                                                                                                                                                                                                                                                                                                                                                                                                                                                                                                                                          |4    |\n",
      "|http://yandex.ru/clck/jsredir?from=yandex.ru%3Byandsearch%3Bweb%3B%3B%2Fweb%2Fitem%2Ftitle%2Cpos%2Cp1%2Csource%2Cweb&text=&etext=238.rJIskveIvnIV6N9H5Zj53nwB9urf41GRHjwHrOQpL0Q.917574d74039578a86be6e83719012a47692f107&uuid=&state=AiuY0DBWFJ4ePaEse6rgeAjgs2pI3DW99KUdgowt9XvoT-twMUKrgCbXY9MpaLOeNeHKaC8Z_SWk6Iy4EP2uXbblK8OgM6lcefxLCA3N7dU1D0whNTZP3_-0W2lwpMS0qaq9eoUEwWtH1lO-Vm-cfSkxpGvZvVnaVvrDrVp7TBQDL1-bHjmZJUFMQHWDu-y2_ns_zZMxFlgbyfvjoPG6Nwxc8iHMqMnqJkLBW5ZgJbxdQOCzX_KC-XWeuEn1e4Q8GwWY0DP9mmaIcnsuEAJFtDSkGqEB_06c&data=UlNrNmk5WktYejR0eWJFYk1LdmtxbkltVkpkY2pNazJfME13WkZDeTZXVE9kRmxxOTd2eUpiS0dteVZhN29EZVl5WURIT09VcXd5ZDcxY2doYWN2NVU5MlR1T0FRUkFYbzdUdGVVQ01QdGJwbE5DeHQ1SHlyXzVKbnk5enZrQW5kQ25Rd2lSTVdSNmoyZXFoSHdDMWZ3&b64e=2&sign=4baf4c07fa96b370d4dc9c4beebb7477&keyno=0&l10n=ru&mc=2.1280852788913944|1    |\n",
      "|http://semicomplete.com/style2.css                                                                                                                                                                                                                                                                                                                                                                                                                                                                                                                                                                                                                                                                                                                                                                                                     |5    |\n",
      "|http://www.s-chassis.co.nz/viewtopic.php?f=16&t=9265&p=224757                                                                                                                                                                                                                                                                                                                                                                                                                                                                                                                                                                                                                                                                                                                                                                          |1    |\n",
      "|http://www.google.com/search?q=google.com&oe=UTF-8&hl=en&client=safari&gfe_rd=cr&um=1&ie=UTF-8&tbm=isch&source=og&sa=N&tab=wi&ei=wpIBU9imHsfmswa7w4D4Cw                                                                                                                                                                                                                                                                                                                                                                                                                                                                                                                                                                                                                                                                                |1    |\n",
      "|http://stackoverflow.com/questions/109553/how-can-i-programmatically-manage-iptables-rules-on-the-fly                                                                                                                                                                                                                                                                                                                                                                                                                                                                                                                                                                                                                                                                                                                                  |1    |\n",
      "|http://www.semicomplete.com/projects/xboxproxy/                                                                                                                                                                                                                                                                                                                                                                                                                                                                                                                                                                                                                                                                                                                                                                                        |1    |\n",
      "|http://www.davidsoncustom.com/www.google.com&page=5                                                                                                                                                                                                                                                                                                                                                                                                                                                                                                                                                                                                                                                                                                                                                                                    |1    |\n",
      "|https://www.google.com.br/                                                                                                                                                                                                                                                                                                                                                                                                                                                                                                                                                                                                                                                                                                                                                                                                             |9    |\n",
      "|http://www.semicomplete.com/blog/tags/munin                                                                                                                                                                                                                                                                                                                                                                                                                                                                                                                                                                                                                                                                                                                                                                                            |4    |\n",
      "|http://semicomplete.com                                                                                                                                                                                                                                                                                                                                                                                                                                                                                                                                                                                                                                                                                                                                                                                                                |1    |\n",
      "|http://www.google.com/search?redir_esc=&hl=fr&client=tablet-unknown&source=android-search-app&v=200400000&qsubts=1392665999286&q=www.google.com&tbm=isch&safe=images&biw=600&bih=862&aqs=.&oq=www.google.com&noj=1                                                                                                                                                                                                                                                                                                                                                                                                                                                                                                                                                                                                                     |1    |\n",
      "|http://www.google.co.uk/url?sa=t&rct=j&q=&esrc=s&source=web&cd=3&ved=0CEUQFjAC&url=http%3A%2F%2Fwww.semicomplete.com%2Fprojects%2Fxdotool%2Fxdotool.xhtml&ei=wmsCU5bXG8K2hQeJ7IHwDQ&usg=AFQjCNFwZFAI0RQdN_N0kFH-oj8cLsJRNQ&sig2=0ySvxcOTgnOGHHi_LWxmMQ                                                                                                                                                                                                                                                                                                                                                                                                                                                                                                                                                                                 |1    |\n",
      "|http://www.google.com/url?sa=t&rct=j&q=&esrc=s&source=web&cd=3&ved=0CDQQFjAC&url=http%3A%2F%2Fwww.semicomplete.com%2Fprojects%2Fxdotool%2F&ei=NJcBU5iUG83okAfgwoAg&usg=AFQjCNE3V_aCf3-gfNcbS924S6jZ6FqffA&sig2=qXJZZEUSWE09xaHWTERagQ&bvm=bv.61535280,d.eW0                                                                                                                                                                                                                                                                                                                                                                                                                                                                                                                                                                            |1    |\n",
      "|http://www.google.ru/url?sa=t&rct=j&q=&esrc=s&source=web&cd=14&ved=0CEcQFjADOAo&url=http%3A%2F%2Fwww.semicomplete.com%2Fprojects%2Fxdotool%2Fxdotool.xhtml&ei=6dgBU9jUA8rQ4QTNg4HoCQ&usg=AFQjCNFwZFAI0RQdN_N0kFH-oj8cLsJRNQ&sig2=oNG4m36hRgdrhWcb_ESxjQ&bvm=bv.61535280,d.bGE&cad=rjt                                                                                                                                                                                                                                                                                                                                                                                                                                                                                                                                                  |1    |\n",
      "|http://www.google.ca/url?sa=t&rct=j&q=&esrc=s&source=web&cd=1&ved=0CCgQFjAA&url=http%3A%2F%2Fwww.semicomplete.com%2Fprojects%2Fxdotool%2F&ei=E3cCU4qsLObA0AGehYDoDQ&usg=AFQjCNE3V_aCf3-gfNcbS924S6jZ6FqffA&bvm=bv.61535280,d.dmQ                                                                                                                                                                                                                                                                                                                                                                                                                                                                                                                                                                                                       |1    |\n",
      "|http://www.google.com//                                                                                                                                                                                                                                                                                                                                                                                                                                                                                                                                                                                                                                                                                                                                                                                                                |1    |\n",
      "|http://www.semicomplete.com/projects/xdotool/xdotool                                                                                                                                                                                                                                                                                                                                                                                                                                                                                                                                                                                                                                                                                                                                                                                   |1    |\n",
      "|http://semicomplete.com/presentations/logstash-puppetconf-2013/                                                                                                                                                                                                                                                                                                                                                                                                                                                                                                                                                                                                                                                                                                                                                                        |58   |\n",
      "|http://www.semicomplete.com/blog/geekery/solaris-10-sshd-publickey-solution.html                                                                                                                                                                                                                                                                                                                                                                                                                                                                                                                                                                                                                                                                                                                                                       |7    |\n",
      "|http://www.google.lv/url?sa=t&rct=j&q=&esrc=s&source=web&cd=1&ved=0CC8QFjAA&url=http%3A%2F%2Fwww.semicomplete.com%2Fprojects%2Fxdotool%2Fxdotool.xhtml&ei=eOIBU8_rHIKI5ATghYCYAw&usg=AFQjCNFwZFAI0RQdN_N0kFH-oj8cLsJRNQ&bvm=bv.61535280,d.bGE                                                                                                                                                                                                                                                                                                                                                                                                                                                                                                                                                                                          |2    |\n",
      "|http://www.semicomplete.com/blog/geekery/ssl-latency.html                                                                                                                                                                                                                                                                                                                                                                                                                                                                                                                                                                                                                                                                                                                                                                              |144  |\n",
      "|http://www.semicomplete.com/blog/tags/grok?page=2                                                                                                                                                                                                                                                                                                                                                                                                                                                                                                                                                                                                                                                                                                                                                                                      |4    |\n",
      "|http://www.murga-linux.com/puppy/viewtopic.php?p=217767                                                                                                                                                                                                                                                                                                                                                                                                                                                                                                                                                                                                                                                                                                                                                                                |1    |\n",
      "|http://www.semicomplete.com/blog/geekery/fpm.html                                                                                                                                                                                                                                                                                                                                                                                                                                                                                                                                                                                                                                                                                                                                                                                      |8    |\n",
      "|http://www.google.co.in/url?sa=t&rct=j&q=&esrc=s&source=web&cd=11&cad=rja&ved=0CCQQFjAAOAo&url=http%3A%2F%2Fwww.semicomplete.com%2Fblog%2Ftags%2Fjquery%2520mobile&ei=_d4BU5ylKcGSrgfR24G4Bg&usg=AFQjCNHmLYX9aoOZ44fBHqIez5bhZjlmiQ&bvm=bv.61535280,d.bmk                                                                                                                                                                                                                                                                                                                                                                                                                                                                                                                                                                              |1    |\n",
      "|http://de.wikipedia.org/wiki/Xvfb                                                                                                                                                                                                                                                                                                                                                                                                                                                                                                                                                                                                                                                                                                                                                                                                      |1    |\n",
      "|http://www.google.co.uk/url?sa=t&rct=j&q=&esrc=s&frm=1&source=web&cd=20&ved=0CGQQFjAJOAo&url=http%3A%2F%2Fwww.semicomplete.com%2Fblog%2Fgeekery%2Fssl-latency.html&ei=RN0BU92pM5Ojhge21ID4DQ&usg=AFQjCNHw6zioJpizqX8Q0YpKKaF4zdCSEg&bvm=bv.61535280,d.ZG4                                                                                                                                                                                                                                                                                                                                                                                                                                                                                                                                                                              |1    |\n",
      "|http://www.google.com/url?q=http%3A%2F%2Fwww.semicomplete.com%2Fprojects%2Fxdotool%2Fxdotool.xhtml%23keyboard_commands&sa=D&sntz=1&usg=AFQjCNE99PSLvWBIRez711_mR6XayHJjfQ                                                                                                                                                                                                                                                                                                                                                                                                                                                                                                                                                                                                                                                              |1    |\n",
      "|http://www.google.com/url?sa=t&rct=j&q=&esrc=s&frm=1&source=web&cd=3&ved=0CEIQFjAC&url=http%3A%2F%2Fwww.semicomplete.com%2Farticles%2Fdynamic-dns-with-dhcp%2F&ei=YB4BU7a6BubbyQGRn4CoBQ&usg=AFQjCNEF1X4Rs52UYQyLiySTQxa97ozM4g&sig2=m8HRGxJmu20TPeLwKzjAow&bvm=bv.61535280,d.aWM                                                                                                                                                                                                                                                                                                                                                                                                                                                                                                                                                      |1    |\n",
      "|http://serverfault.com/questions/380454/creating-custom-deb-packages-of-common-programs                                                                                                                                                                                                                                                                                                                                                                                                                                                                                                                                                                                                                                                                                                                                                |1    |\n",
      "|http://www.google.com/url?sa=t&rct=j&q=&esrc=s&source=web&cd=1&ved=0CCkQFjAA&url=http%3A%2F%2Fwww.semicomplete.com%2Farticles%2Fdynamic-dns-with-dhcp%2F&ei=7WACU7-CI8uFogTDnYHgDw&usg=AFQjCNEF1X4Rs52UYQyLiySTQxa97ozM4g&sig2=5DgBFUIRlwAnB5NrLR4ytw                                                                                                                                                                                                                                                                                                                                                                                                                                                                                                                                                                                  |1    |\n",
      "|http://www.google.com.hk/url?sa=t&rct=j&q=the+logstash+book+pdf&source=web&cd=9&ved=0CGEQFjAI&url=%68%74%74%70%3a%2f%2f%73%65%6d%69%63%6f%6d%70%6c%65%74%65%2e%63%6f%6d%2f%69%6d%61%67%65%73%2f%6c%6f%67%73%74%61%73%68%5f%4f%53%43%4f%4e%2e%70%64%66&ei=5tsAU_f5NPGYiAffqYCYAQ&usg=AFQjCNF2ikX71TvpVxHLkIi36cWJowYlNA                                                                                                                                                                                                                                                                                                                                                                                                                                                                                                                 |1    |\n",
      "|http://tex.stackexchange.com/questions/28952/pdf-reader-on-linux-capable-of-continuous-updating                                                                                                                                                                                                                                                                                                                                                                                                                                                                                                                                                                                                                                                                                                                                        |1    |\n",
      "|http://www.google.com/url?sa=t&rct=j&q=&esrc=s&source=web&cd=1&ved=0CCMQFjAA&url=http%3A%2F%2Fwww.semicomplete.com%2Fprojects%2Fxdotool%2Fxdotool.xhtml&ei=kgICU8S8DciMtQbd9IG4Bw&usg=AFQjCNFwZFAI0RQdN_N0kFH-oj8cLsJRNQ&bvm=bv.61535280,d.Yms&cad=rja                                                                                                                                                                                                                                                                                                                                                                                                                                                                                                                                                                                 |1    |\n",
      "|http://www.google.nl/url?sa=t&rct=j&q=&esrc=s&source=web&cd=1&ved=0CDQQFjAA&url=http%3A%2F%2Fwww.semicomplete.com%2Fprojects%2Fxdotool%2F&ei=5CICU_GqDIXL0QXG9IG4Bg&usg=AFQjCNE3V_aCf3-gfNcbS924S6jZ6FqffA&bvm=bv.61535280,d.d2k                                                                                                                                                                                                                                                                                                                                                                                                                                                                                                                                                                                                       |1    |\n",
      "|http://www.google.com/url?sa=t&rct=j&q=&esrc=s&source=web&cd=5&cad=rja&sqi=2&ved=0CFYQFjAE&url=http%3A%2F%2Fwww.semicomplete.com%2Fprojects%2Fxdotool%2F&ei=6cwAU_bRHo6urAeI0YD4Ag&usg=AFQjCNE3V_aCf3-gfNcbS924S6jZ6FqffA&bvm=bv.61535280,d.bmk                                                                                                                                                                                                                                                                                                                                                                                                                                                                                                                                                                                        |1    |\n",
      "|http://www.semicomplete.com/blog/geekery/vpn-troubles.html                                                                                                                                                                                                                                                                                                                                                                                                                                                                                                                                                                                                                                                                                                                                                                             |1    |\n",
      "|http://www.semicomplete.com/blog/2007/Jan/31                                                                                                                                                                                                                                                                                                                                                                                                                                                                                                                                                                                                                                                                                                                                                                                           |2    |\n",
      "|http://www.semicomplete.com/blog/geekery/jquery-interface-puffer.html                                                                                                                                                                                                                                                                                                                                                                                                                                                                                                                                                                                                                                                                                                                                                                  |1    |\n",
      "|http://t.co/P6vw4TTqWs                                                                                                                                                                                                                                                                                                                                                                                                                                                                                                                                                                                                                                                                                                                                                                                                                 |2    |\n",
      "|http://www.semicomplete.com/blog/geekery/screen-solaris-terminfo.html                                                                                                                                                                                                                                                                                                                                                                                                                                                                                                                                                                                                                                                                                                                                                                  |5    |\n",
      "|http://www.google.com/url?sa=t&rct=j&q=&esrc=s&source=web&cd=2&ved=0CD8Q0gIoAjAB&url=http%3A%2F%2Fwww.semicomplete.com%2Fprojects%2Fxdotool%2Fxdotool.xhtml%23keyboard_commands&ei=YCcCU-2XH4X70gWjhIH4Ag&usg=AFQjCNFwZFAI0RQdN_N0kFH-oj8cLsJRNQ&bvm=bv.61535280,d.d2k                                                                                                                                                                                                                                                                                                                                                                                                                                                                                                                                                                 |1    |\n",
      "|http://www.semicomplete.com/blog/geekery/CEE-logging-for-profit.html                                                                                                                                                                                                                                                                                                                                                                                                                                                                                                                                                                                                                                                                                                                                                                   |4    |\n",
      "|http://semicomplete.com/files/                                                                                                                                                                                                                                                                                                                                                                                                                                                                                                                                                                                                                                                                                                                                                                                                         |4    |\n",
      "|http://www.semicomplete.com/blog/geekery/rrdtool-behavior-detection.html                                                                                                                                                                                                                                                                                                                                                                                                                                                                                                                                                                                                                                                                                                                                                               |3    |\n",
      "|http://sofit-dmd.ru/news.html?id=5                                                                                                                                                                                                                                                                                                                                                                                                                                                                                                                                                                                                                                                                                                                                                                                                     |3    |\n",
      "|http://www.google.com/url?sa=t&rct=j&q=&esrc=s&source=web&cd=2&ved=0CDsQFjAB&url=http%3A%2F%2Fwww.semicomplete.com%2Fprojects%2Fxdotool%2Fxdotool.xhtml&ei=6RboUNCkBJOR0QWAmoCgAw&usg=AFQjCNFwZFAI0RQdN_N0kFH-oj8cLsJRNQ&sig2=4K7QRpYyG6q8_E59KenL5A&bvm=bv.1355534169,d.d2k&cad=rja                                                                                                                                                                                                                                                                                                                                                                                                                                                                                                                                                   |1    |\n",
      "|http://www.semicomplete.com/blog/tags/liboverride                                                                                                                                                                                                                                                                                                                                                                                                                                                                                                                                                                                                                                                                                                                                                                                      |3    |\n",
      "|http://semicomplete.com/images/logstash_OSCON.pdf                                                                                                                                                                                                                                                                                                                                                                                                                                                                                                                                                                                                                                                                                                                                                                                      |2    |\n",
      "|http://www.google.com/search?q=www.google.com&client=ms-android-sonyericsson&hl=fa&source=android-search-app&v=141400000&source=lnms&tbm=isch&sa=X&ei=VBYBU-isLojbtAaQmoGwBA&ved=0CAgQ_AUoAA                                                                                                                                                                                                                                                                                                                                                                                                                                                                                                                                                                                                                                           |1    |\n",
      "|http://www.google.de/url?sa=t&rct=j&q=&esrc=s&source=web&cd=7&ved=0CF4QFjAG&url=http%3A%2F%2Fwww.semicomplete.com%2Fprojects%2Fxdotool%2Fxdotool.xhtml&ei=pYoBU9jhJcHPtAblqIHQDw&usg=AFQjCNFwZFAI0RQdN_N0kFH-oj8cLsJRNQ&sig2=QQ7R7yq0s5nHuUKPLuveEQ                                                                                                                                                                                                                                                                                                                                                                                                                                                                                                                                                                                    |1    |\n",
      "|http://www.s-chassis.co.nz/viewtopic.php?f=16&t=9265&p=224692                                                                                                                                                                                                                                                                                                                                                                                                                                                                                                                                                                                                                                                                                                                                                                          |1    |\n",
      "|http://zoomq.qiniudn.com/ZQScrapBook/ZqFLOSS/data/20110811235550/                                                                                                                                                                                                                                                                                                                                                                                                                                                                                                                                                                                                                                                                                                                                                                      |1    |\n",
      "|http://www.google.rs/url?sa=t&rct=j&q=&esrc=s&source=web&cd=20&ved=0CGwQFjAJOAo&url=http%3A%2F%2Fwww.semicomplete.com%2Fblog%2Fgeekery%2Fpull-album-covers-from-amazon.html&ei=mQACU4-9PIrZsgaMq4F4&usg=AFQjCNEEl6lgsXmiSCNjydA9EReLLBDDuw                                                                                                                                                                                                                                                                                                                                                                                                                                                                                                                                                                                             |1    |\n",
      "|http://stackoverflow.com/questions/14941534/how-can-i-send-keyboard-presses-mouse-clicks-to-other-gui-application-in-ubuntu                                                                                                                                                                                                                                                                                                                                                                                                                                                                                                                                                                                                                                                                                                            |1    |\n",
      "|http://www.google.com/search                                                                                                                                                                                                                                                                                                                                                                                                                                                                                                                                                                                                                                                                                                                                                                                                           |1    |\n",
      "|http://www.google.com/m?q=http%3A%2Fwww.google                                                                                                                                                                                                                                                                                                                                                                                                                                                                                                                                                                                                                                                                                                                                                                                         |1    |\n",
      "|http://z0mbix.github.io/blog/2012/03/01/use-nginx-and-passenger-to-power-your-puppet-master/                                                                                                                                                                                                                                                                                                                                                                                                                                                                                                                                                                                                                                                                                                                                           |1    |\n",
      "|http://www.google.fr/url?sa=t&rct=j&q=&esrc=s&source=web&cd=5&ved=0CE4QFjAE&url=http%3A%2F%2Fwww.semicomplete.com%2Fblog%2Fgeekery%2Fssl-latency.html&ei=ZdEAU9mGGuWX1AW09IDoBw&usg=AFQjCNHw6zioJpizqX8Q0YpKKaF4zdCSEg&bvm=bv.61535280,d.d2k                                                                                                                                                                                                                                                                                                                                                                                                                                                                                                                                                                                           |1    |\n",
      "|http://www.semicomplete.com/files/xdotool/docs/html/xdo_8h.html                                                                                                                                                                                                                                                                                                                                                                                                                                                                                                                                                                                                                                                                                                                                                                        |26   |\n",
      "|http://keepass.info/help/v2/setup.html                                                                                                                                                                                                                                                                                                                                                                                                                                                                                                                                                                                                                                                                                                                                                                                                 |3    |\n",
      "|http://kherson-apartments.ru/article_2.php                                                                                                                                                                                                                                                                                                                                                                                                                                                                                                                                                                                                                                                                                                                                                                                             |3    |\n",
      "|http://semicomplete.com/presentations/?C=M;O=D                                                                                                                                                                                                                                                                                                                                                                                                                                                                                                                                                                                                                                                                                                                                                                                         |2    |\n",
      "|http://semicomplete.com/presentations/logstash-1/                                                                                                                                                                                                                                                                                                                                                                                                                                                                                                                                                                                                                                                                                                                                                                                      |123  |\n",
      "|http://www.semicomplete.com/projects/xdotool/xdotool.xhtml                                                                                                                                                                                                                                                                                                                                                                                                                                                                                                                                                                                                                                                                                                                                                                             |18   |\n",
      "|http://images.google.com/images?q=http://%60www.google.com/                                                                                                                                                                                                                                                                                                                                                                                                                                                                                                                                                                                                                                                                                                                                                                            |1    |\n",
      "|http://www.semicomplete.com/blog/geekery/puppet-nodeless-configuration.html                                                                                                                                                                                                                                                                                                                                                                                                                                                                                                                                                                                                                                                                                                                                                            |3    |\n",
      "|http://www.semicomplete.com/blog/geekery/grok-pattern-autodiscovery.html                                                                                                                                                                                                                                                                                                                                                                                                                                                                                                                                                                                                                                                                                                                                                               |14   |\n",
      "|http://www.baidu.com/search/spider.htm                                                                                                                                                                                                                                                                                                                                                                                                                                                                                                                                                                                                                                                                                                                                                                                                 |1    |\n",
      "|http://www.google.com/url?sa=t&rct=j&q=&esrc=s&source=web&cd=1&ved=0CCQQFjAA&url=http%3A%2F%2Fwww.semicomplete.com%2Farticles%2Fdynamic-dns-with-dhcp%2F&ei=zBwCU8bzPMjayAGQkoCABw&usg=AFQjCNEF1X4Rs52UYQyLiySTQxa97ozM4g&bvm=bv.61535280,d.cWc                                                                                                                                                                                                                                                                                                                                                                                                                                                                                                                                                                                        |1    |\n",
      "|http://bruteforce.gr                                                                                                                                                                                                                                                                                                                                                                                                                                                                                                                                                                                                                                                                                                                                                                                                                   |1    |\n",
      "|http://semicomplete.com/articles/ppp-over-ssh/                                                                                                                                                                                                                                                                                                                                                                                                                                                                                                                                                                                                                                                                                                                                                                                         |1    |\n",
      "|http://www.google.com/url?sa=t&rct=j&q=&esrc=s&frm=1&source=web&cd=9&ved=0CGEQFjAI&url=http%3A%2F%2Fwww.semicomplete.com%2Fblog%2Fgeekery%2Fssl-latency.html&ei=2V8BU9ujI7OMyAH5nYHgCg&usg=AFQjCNHw6zioJpizqX8Q0YpKKaF4zdCSEg                                                                                                                                                                                                                                                                                                                                                                                                                                                                                                                                                                                                          |1    |\n",
      "|http://www.semicomplete.com/projects/pmbackup/                                                                                                                                                                                                                                                                                                                                                                                                                                                                                                                                                                                                                                                                                                                                                                                         |3    |\n",
      "|http://www.google.de/url?sa=t&rct=j&q=&esrc=s&source=web&cd=9&ved=0CIMBEBYwCA&url=http%3A%2F%2Fwww.semicomplete.com%2Fblog%2Fgeekery%2Fpuppet-exported-resource-expiration.html&ei=AmACU7ehFfLe7AaCpoDgCg&usg=AFQjCNHhfvTCBSm7PtmmOzHoUt43xbCT8g&sig2=E4ESJeCFa5gkK_S3UE6naw&bvm=bv.61535280,d.ZGU&cad=rja                                                                                                                                                                                                                                                                                                                                                                                                                                                                                                                             |1    |\n",
      "|https://www.google.co.uk/                                                                                                                                                                                                                                                                                                                                                                                                                                                                                                                                                                                                                                                                                                                                                                                                              |23   |\n",
      "|http://www.semicomplete.com/resume.xml                                                                                                                                                                                                                                                                                                                                                                                                                                                                                                                                                                                                                                                                                                                                                                                                 |11   |\n",
      "|http://www.google.com/search?q=www.google.com+images&client=ms-android-samsung&hl=fa&source=android-browser-suggest&v=200400000&source=lnms&tbm=isch&sa=X&ei=VigBU-6HII3CtAbHvIDgBg&ved=0CAgQ_AUoADgK                                                                                                                                                                                                                                                                                                                                                                                                                                                                                                                                                                                                                                  |1    |\n",
      "|http://www.google.de/url?sa=t&rct=j&q=&esrc=s&frm=1&source=web&cd=7&cad=rja&ved=0CGEQFjAG&url=http%3A%2F%2Fwww.semicomplete.com%2Farticles%2Fdynamic-dns-with-dhcp%2F&ei=NwUCU5mFPI2u4QSk74DIAg&usg=AFQjCNEF1X4Rs52UYQyLiySTQxa97ozM4g&bvm=bv.61535280,d.bGE                                                                                                                                                                                                                                                                                                                                                                                                                                                                                                                                                                           |1    |\n",
      "+---------------------------------------------------------------------------------------------------------------------------------------------------------------------------------------------------------------------------------------------------------------------------------------------------------------------------------------------------------------------------------------------------------------------------------------------------------------------------------------------------------------------------------------------------------------------------------------------------------------------------------------------------------------------------------------------------------------------------------------------------------------------------------------------------------------------------------------+-----+\n",
      "only showing top 100 rows\n",
      "\n"
     ]
    }
   ],
   "source": [
    "logs_df \\\n",
    "    .groupBy(\"referrer\") \\\n",
    "    .count() \\\n",
    "    .show(100, truncate=False)"
   ]
  },
  {
   "cell_type": "markdown",
   "id": "a3b8a72a",
   "metadata": {},
   "source": [
    "http://www.semicomplete.com/blog/tags/wifi\n",
    "\n",
    "|http://www.semicomplete.com/projects/keynav/\n",
    "\n",
    "|http://www.semicomplete.com/presentations/logstash-blah/images/office-space-printer-beat-down-gif.gif\n",
    "\n",
    "look at these refereer from same site. \n",
    "\n",
    "lets take only websites home url"
   ]
  },
  {
   "cell_type": "code",
   "execution_count": 21,
   "id": "9d8640ba",
   "metadata": {},
   "outputs": [
    {
     "name": "stdout",
     "output_type": "stream",
     "text": [
      "+--------------------------------------+-----+\n",
      "|referrer                              |count|\n",
      "+--------------------------------------+-----+\n",
      "|http://ijavascript.cn                 |1    |\n",
      "|http://www.google.co.tz               |1    |\n",
      "|http://www.google.ca                  |6    |\n",
      "|https://www.google.hr                 |2    |\n",
      "|https://www.google.ch                 |1    |\n",
      "|http://www.google.ru                  |6    |\n",
      "|http://www.raspberrypi-spanish.es     |1    |\n",
      "|http://semicomplete.com               |2001 |\n",
      "|http://manpages.ubuntu.com            |2    |\n",
      "|http://kufli.blogspot.fr              |1    |\n",
      "|http://www.bing.com                   |6    |\n",
      "|http://rungie.com                     |1    |\n",
      "|http://www.google.co.th               |2    |\n",
      "|https://www.google.cz                 |5    |\n",
      "|http://danceuniverse.ru               |3    |\n",
      "|http://www.google.co.uk               |14   |\n",
      "|http://www.google.rs                  |1    |\n",
      "|http://kufli.blogspot.in              |1    |\n",
      "|http://t.co                           |3    |\n",
      "|http://www.google.nl                  |4    |\n",
      "|https://www.google.hu                 |1    |\n",
      "|http://search.daum.net                |2    |\n",
      "|http://avtoads.net                    |3    |\n",
      "|http://www.google.com.sg              |2    |\n",
      "|http://www.google.lv                  |2    |\n",
      "|http://mishura-optom.ru               |3    |\n",
      "|http://www.baidu.com                  |3    |\n",
      "|http://ubuntuforums.org               |4    |\n",
      "|http://bruteforce.gr                  |1    |\n",
      "|https://www.google.co.th              |2    |\n",
      "|http://kufli.blogspot.nl              |1    |\n",
      "|http://www.google.az                  |1    |\n",
      "|http://www.google.at                  |1    |\n",
      "|http://www.google.com.tw              |1    |\n",
      "|http://www.experts-exchange.com       |1    |\n",
      "|http://lifehacker.com                 |1    |\n",
      "|http://www.ibm.com                    |1    |\n",
      "|http://blog.float.tw                  |3    |\n",
      "|http://zoomq.qiniudn.com              |1    |\n",
      "|http://www.davidsoncustom.com         |1    |\n",
      "|http://zolotoy-lis.ru                 |3    |\n",
      "|http://www.google.com.tr              |1    |\n",
      "|https://www.google.ca                 |3    |\n",
      "|http://antonio-zabila.blogspot.com.es |1    |\n",
      "|http://translate.googleusercontent.com|2    |\n",
      "|http://www.google.co.jp               |2    |\n",
      "|http://tuxradar.com                   |12   |\n",
      "|http://serverfault.com                |1    |\n",
      "|http://doc.ubuntu-fr.org              |1    |\n",
      "|http://znakomstvaonlain.ru            |3    |\n",
      "|https://www.google.com.tw             |1    |\n",
      "|https://www.google.fi                 |3    |\n",
      "|https://www.google.si                 |1    |\n",
      "|http://kufli.blogspot.com.au          |1    |\n",
      "|http://www.google.com.gh              |1    |\n",
      "|https://duckduckgo.com                |3    |\n",
      "|http://image.baidu.com                |1    |\n",
      "|http://images.google.com              |1    |\n",
      "|http://www.xiaofang.me                |1    |\n",
      "|http://forums.opensuse.org            |1    |\n",
      "|http://www.google.iq                  |1    |\n",
      "|http://www.google.com.ar              |3    |\n",
      "|http://tex.stackexchange.com          |1    |\n",
      "|https://www.google.com.ar             |2    |\n",
      "|https://www.google.nl                 |6    |\n",
      "|http://blog.sleeplessbeastie.eu       |1    |\n",
      "|https://www.google.sk                 |1    |\n",
      "|http://www.google.com.ua              |1    |\n",
      "|http://www.google.si                  |1    |\n",
      "|http://genus-industri.us              |1    |\n",
      "|https://www.google.pl                 |3    |\n",
      "|https://www.google.co.mz              |1    |\n",
      "|http://installion.co.uk               |1    |\n",
      "|http://www.adictosalared.com          |1    |\n",
      "|http://jquerylist.com                 |1    |\n",
      "|http://r.duckduckgo.com               |11   |\n",
      "|http://blackwitchcraft.ru             |3    |\n",
      "|https://www.google.com.au             |2    |\n",
      "|http://www.google.dz                  |1    |\n",
      "|http://simplestcodings.blogspot.in    |1    |\n",
      "|http://en.wikipedia.org               |10   |\n",
      "|http://kufli.blogspot.co.uk           |1    |\n",
      "|http://www.logstash.net               |3    |\n",
      "|http://pandce.proboards.com           |1    |\n",
      "|http://www.reproductive-fitness.com   |1    |\n",
      "|http://es.wikipedia.org               |1    |\n",
      "|http://stackoverflow.com              |34   |\n",
      "|http://kherson-apartments.ru          |3    |\n",
      "|http://community.spiceworks.com       |2    |\n",
      "|https://www.google.com.ua             |2    |\n",
      "|http://www.google.fi                  |4    |\n",
      "|https://www.google.co.za              |1    |\n",
      "|http://www.google.md                  |1    |\n",
      "|http://www.google.co.ve               |1    |\n",
      "|http://www.google.se                  |1    |\n",
      "|http://www.google.com                 |123  |\n",
      "|https://www.google.com.br             |9    |\n",
      "|http://kufli.blogspot.de              |5    |\n",
      "|http://www.google.com.au              |4    |\n",
      "|https://www.google.it                 |4    |\n",
      "+--------------------------------------+-----+\n",
      "only showing top 100 rows\n",
      "\n"
     ]
    }
   ],
   "source": [
    "  logs_df \\\n",
    "        .where(\"trim(referrer) != '-' \") \\\n",
    "        .withColumn(\"referrer\", substring_index(\"referrer\", \"/\", 3)) \\\n",
    "        .groupBy(\"referrer\") \\\n",
    "        .count() \\\n",
    "        .show(100, truncate=False)"
   ]
  },
  {
   "cell_type": "markdown",
   "id": "0a85c9a6",
   "metadata": {},
   "source": [
    "how ever you might wondering about this column transformation. we havent learn this thing yet. let do column level transformation and come back."
   ]
  },
  {
   "cell_type": "code",
   "execution_count": 22,
   "id": "533b69c8",
   "metadata": {},
   "outputs": [],
   "source": [
    "spark.stop()"
   ]
  }
 ],
 "metadata": {
  "kernelspec": {
   "display_name": "Python 3",
   "language": "python",
   "name": "python3"
  },
  "language_info": {
   "codemirror_mode": {
    "name": "ipython",
    "version": 3
   },
   "file_extension": ".py",
   "mimetype": "text/x-python",
   "name": "python",
   "nbconvert_exporter": "python",
   "pygments_lexer": "ipython3",
   "version": "3.8.10"
  }
 },
 "nbformat": 4,
 "nbformat_minor": 5
}
