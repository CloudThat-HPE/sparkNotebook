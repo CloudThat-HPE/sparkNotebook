{
 "cells": [
  {
   "cell_type": "code",
   "execution_count": 1,
   "id": "722e71c1",
   "metadata": {},
   "outputs": [],
   "source": [
    "import findspark\n",
    "findspark.init()\n",
    "\n",
    "import pyspark\n",
    "from pyspark.sql import *\n",
    "from pyspark.sql.functions import *\n",
    "from pyspark.sql.types import *\n",
    "\n",
    "spark = SparkSession.builder \\\n",
    "            .master(\"local[3]\") \\\n",
    "            .appName(\"Misc Transformations\") \\\n",
    "            .getOrCreate()\n",
    "\n",
    "data_list = [(\"Ravi\", \"28\", \"1\", \"2002\"),\n",
    "             (\"Abdul\", \"23\", \"5\", \"81\"),\n",
    "             (\"John\", \"12\", \"12\", \"6\"),\n",
    "             (\"Rosy\", \"7\", \"8\", \"63\"),\n",
    "             (\"Abdul\", \"23\", \"5\", \"81\")\n",
    "            ]\n",
    "\n",
    "data_list1 = [(\"Ravi\", 28, 1, 2002),\n",
    "             (\"Abdul\", 23, 5, 81),\n",
    "             (\"John\", 12, 12, 6),\n",
    "             (\"Rosy\", 7, 8, 63),\n",
    "             (\"Abdul\", 23, 5, 81)\n",
    "            ]"
   ]
  },
  {
   "cell_type": "markdown",
   "id": "ef8837a6",
   "metadata": {},
   "source": [
    "1. Quick method to create dataframe"
   ]
  },
  {
   "cell_type": "code",
   "execution_count": 2,
   "id": "1bf33e21",
   "metadata": {},
   "outputs": [
    {
     "name": "stdout",
     "output_type": "stream",
     "text": [
      "root\n",
      " |-- _1: string (nullable = true)\n",
      " |-- _2: string (nullable = true)\n",
      " |-- _3: string (nullable = true)\n",
      " |-- _4: string (nullable = true)\n",
      "\n"
     ]
    }
   ],
   "source": [
    "raw_df = spark.createDataFrame(data_list)\n",
    "raw_df.printSchema()"
   ]
  },
  {
   "cell_type": "markdown",
   "id": "58334af7",
   "metadata": {},
   "source": [
    "However we infered schema automatically. so might incorrect for some columns. as well as we dont have meaningful column names. and we do have duplicate entries as well.\n",
    "\n",
    "so how to get schema for dataframe namedtuple right. so define it and attach schema.\n",
    "\n",
    "however we have quick method to do it use toDF method."
   ]
  },
  {
   "cell_type": "code",
   "execution_count": 3,
   "id": "95696079",
   "metadata": {},
   "outputs": [
    {
     "name": "stdout",
     "output_type": "stream",
     "text": [
      "root\n",
      " |-- name: string (nullable = true)\n",
      " |-- day: string (nullable = true)\n",
      " |-- month: string (nullable = true)\n",
      " |-- year: string (nullable = true)\n",
      "\n"
     ]
    }
   ],
   "source": [
    "raw_df = spark.createDataFrame(data_list).toDF(\"name\", \"day\", \"month\", \"year\")\n",
    "raw_df.printSchema()"
   ]
  },
  {
   "cell_type": "markdown",
   "id": "39973f18",
   "metadata": {},
   "source": [
    "2. How to add column with monotonically increasing id\n",
    "withColumn can allow to create column as well. monotonically_increasing_id generates unique integer for every record"
   ]
  },
  {
   "cell_type": "code",
   "execution_count": 4,
   "id": "81c876c2",
   "metadata": {},
   "outputs": [
    {
     "name": "stdout",
     "output_type": "stream",
     "text": [
      "+-----+---+-----+----+-----------+\n",
      "| name|day|month|year|         id|\n",
      "+-----+---+-----+----+-----------+\n",
      "| Ravi| 28|    1|2002|          0|\n",
      "|Abdul| 23|    5|  81| 8589934592|\n",
      "| John| 12|   12|   6| 8589934593|\n",
      "| Rosy|  7|    8|  63|17179869184|\n",
      "|Abdul| 23|    5|  81|17179869185|\n",
      "+-----+---+-----+----+-----------+\n",
      "\n"
     ]
    }
   ],
   "source": [
    "df1 = raw_df.withColumn(\"id\", monotonically_increasing_id())\n",
    "df1.show()"
   ]
  },
  {
   "cell_type": "markdown",
   "id": "2e5ad69e",
   "metadata": {},
   "source": [
    "3. How to use use case when Then\n",
    "these are popular constructs in programming language\n",
    "will use to avoid lengthy if else statements\n",
    "lets use it to fix year digit problem. we have two digit year make it four digit."
   ]
  },
  {
   "cell_type": "code",
   "execution_count": 5,
   "id": "2981f87e",
   "metadata": {},
   "outputs": [
    {
     "name": "stdout",
     "output_type": "stream",
     "text": [
      "+-----+---+-----+------+-----------+\n",
      "| name|day|month|  year|         id|\n",
      "+-----+---+-----+------+-----------+\n",
      "| Ravi| 28|    1|  2002|          0|\n",
      "|Abdul| 23|    5|1981.0| 8589934592|\n",
      "| John| 12|   12|2006.0| 8589934593|\n",
      "| Rosy|  7|    8|1963.0|17179869184|\n",
      "|Abdul| 23|    5|1981.0|17179869185|\n",
      "+-----+---+-----+------+-----------+\n",
      "\n"
     ]
    }
   ],
   "source": [
    "df2 = df1.withColumn(\"year\", expr(\"\"\"\n",
    "         case when year < 21 then year + 2000\n",
    "         when year < 100 then year + 1900\n",
    "         else year\n",
    "         end\"\"\"))\n",
    "df2.show()"
   ]
  },
  {
   "cell_type": "markdown",
   "id": "58de2ddb",
   "metadata": {},
   "source": [
    "now year in decimal. cause datatye is in string and we are performing arithmetic operation so promoted to decimal and then again after demoted to string.\n",
    "\n",
    "How to fix it?"
   ]
  },
  {
   "cell_type": "markdown",
   "id": "31779783",
   "metadata": {},
   "source": [
    "3. How to cast your fields\n",
    "two methods\n",
    "inline cast: doesnot allow spark to promote and demote field automatically;"
   ]
  },
  {
   "cell_type": "code",
   "execution_count": 6,
   "id": "fba3f6be",
   "metadata": {},
   "outputs": [
    {
     "name": "stdout",
     "output_type": "stream",
     "text": [
      "+-----+---+-----+----+-----------+\n",
      "| name|day|month|year|         id|\n",
      "+-----+---+-----+----+-----------+\n",
      "| Ravi| 28|    1|2002|          0|\n",
      "|Abdul| 23|    5|1981| 8589934592|\n",
      "| John| 12|   12|2006| 8589934593|\n",
      "| Rosy|  7|    8|1963|17179869184|\n",
      "|Abdul| 23|    5|1981|17179869185|\n",
      "+-----+---+-----+----+-----------+\n",
      "\n"
     ]
    }
   ],
   "source": [
    "df3 = df1.withColumn(\"year\", expr(\"\"\"\n",
    "         case when year < 21 then cast(year as int) + 2000\n",
    "         when year < 100 then cast(year as int) + 1900\n",
    "         else year\n",
    "         end\"\"\"))\n",
    "df3.show()"
   ]
  },
  {
   "cell_type": "markdown",
   "id": "a861bca1",
   "metadata": {},
   "source": [
    "Change Schema Method"
   ]
  },
  {
   "cell_type": "code",
   "execution_count": 7,
   "id": "a838dc54",
   "metadata": {},
   "outputs": [
    {
     "name": "stdout",
     "output_type": "stream",
     "text": [
      "+-----+---+-----+----+-----------+\n",
      "| name|day|month|year|         id|\n",
      "+-----+---+-----+----+-----------+\n",
      "| Ravi| 28|    1|2002|          0|\n",
      "|Abdul| 23|    5|1981| 8589934592|\n",
      "| John| 12|   12|2006| 8589934593|\n",
      "| Rosy|  7|    8|1963|17179869184|\n",
      "|Abdul| 23|    5|1981|17179869185|\n",
      "+-----+---+-----+----+-----------+\n",
      "\n",
      "root\n",
      " |-- name: string (nullable = true)\n",
      " |-- day: string (nullable = true)\n",
      " |-- month: string (nullable = true)\n",
      " |-- year: integer (nullable = true)\n",
      " |-- id: long (nullable = false)\n",
      "\n"
     ]
    }
   ],
   "source": [
    "df4 = df1.withColumn(\"year\", expr(\"\"\"\n",
    "         case when year < 21 then year + 2000\n",
    "         when year < 100 then year + 1900\n",
    "         else year\n",
    "         end\"\"\").cast(IntegerType()))\n",
    "df4.show()\n",
    "df4.printSchema()"
   ]
  },
  {
   "cell_type": "code",
   "execution_count": 8,
   "id": "adda703d",
   "metadata": {},
   "outputs": [
    {
     "name": "stdout",
     "output_type": "stream",
     "text": [
      "+-----+---+-----+----+-----------+\n",
      "| name|day|month|year|         id|\n",
      "+-----+---+-----+----+-----------+\n",
      "| Ravi| 28|    1|2002|          0|\n",
      "|Abdul| 23|    5|  81| 8589934592|\n",
      "| John| 12|   12|   6| 8589934593|\n",
      "| Rosy|  7|    8|  63|17179869184|\n",
      "|Abdul| 23|    5|  81|17179869185|\n",
      "+-----+---+-----+----+-----------+\n",
      "\n",
      "root\n",
      " |-- name: string (nullable = true)\n",
      " |-- day: string (nullable = true)\n",
      " |-- month: string (nullable = true)\n",
      " |-- year: string (nullable = true)\n",
      " |-- id: long (nullable = false)\n",
      "\n",
      "root\n",
      " |-- name: string (nullable = true)\n",
      " |-- day: integer (nullable = true)\n",
      " |-- month: integer (nullable = true)\n",
      " |-- year: integer (nullable = true)\n",
      " |-- id: long (nullable = false)\n",
      "\n",
      "+-----+---+-----+----+-----------+\n",
      "| name|day|month|year|         id|\n",
      "+-----+---+-----+----+-----------+\n",
      "| Ravi| 28|    1|2002|          0|\n",
      "|Abdul| 23|    5|1981| 8589934592|\n",
      "| John| 12|   12|2006| 8589934593|\n",
      "| Rosy|  7|    8|1963|17179869184|\n",
      "|Abdul| 23|    5|1981|17179869185|\n",
      "+-----+---+-----+----+-----------+\n",
      "\n"
     ]
    }
   ],
   "source": [
    "df1.show()\n",
    "df1.printSchema()\n",
    "\n",
    "df5 = df1.withColumn(\"day\", col(\"day\").cast(IntegerType())) \\\n",
    "         .withColumn(\"month\", col(\"month\").cast(IntegerType())) \\\n",
    "         .withColumn(\"year\", col(\"year\").cast(IntegerType())) \n",
    "\n",
    "df5.printSchema()\n",
    "\n",
    "df6 = df5.withColumn(\"year\", expr(\"\"\"\n",
    "         case when year < 21 then year + 2000\n",
    "         when year < 100 then year + 1900\n",
    "         else year\n",
    "         end\"\"\"))\n",
    "df6.show()"
   ]
  },
  {
   "cell_type": "markdown",
   "id": "70f27816",
   "metadata": {},
   "source": [
    "3. Alternative to case expression\n",
    "column object expression for case expression."
   ]
  },
  {
   "cell_type": "code",
   "execution_count": 9,
   "id": "119511e0",
   "metadata": {},
   "outputs": [
    {
     "name": "stdout",
     "output_type": "stream",
     "text": [
      "+-----+---+-----+----+-----------+\n",
      "| name|day|month|year|         id|\n",
      "+-----+---+-----+----+-----------+\n",
      "| Ravi| 28|    1|2002|          0|\n",
      "|Abdul| 23|    5|1981| 8589934592|\n",
      "| John| 12|   12|2006| 8589934593|\n",
      "| Rosy|  7|    8|1963|17179869184|\n",
      "|Abdul| 23|    5|1981|17179869185|\n",
      "+-----+---+-----+----+-----------+\n",
      "\n"
     ]
    }
   ],
   "source": [
    "df7 = df5.withColumn(\"year\", \\\n",
    "                    when(col(\"year\") < 21, col(\"year\") + 2000) \\\n",
    "                    .when(col(\"year\") < 100, col(\"year\") + 1900) \\\n",
    "                    .otherwise(col(\"year\")))\n",
    "df7.show()"
   ]
  },
  {
   "cell_type": "markdown",
   "id": "a5e2dba6",
   "metadata": {},
   "source": [
    "4. Add remove column and duplicates"
   ]
  },
  {
   "cell_type": "code",
   "execution_count": 10,
   "id": "71e2c4e9",
   "metadata": {},
   "outputs": [
    {
     "name": "stdout",
     "output_type": "stream",
     "text": [
      "+-----+---+-----+----+-----------+----------+\n",
      "| name|day|month|year|         id|       dob|\n",
      "+-----+---+-----+----+-----------+----------+\n",
      "| Ravi| 28|    1|2002|          0|2002-01-28|\n",
      "|Abdul| 23|    5|1981| 8589934592|1981-05-23|\n",
      "| John| 12|   12|2006| 8589934593|2006-12-12|\n",
      "| Rosy|  7|    8|1963|17179869184|1963-08-07|\n",
      "|Abdul| 23|    5|1981|17179869185|1981-05-23|\n",
      "+-----+---+-----+----+-----------+----------+\n",
      "\n"
     ]
    }
   ],
   "source": [
    "#use inside sql expression\n",
    "df8 = df7.withColumn(\"dob\", expr(\"to_date(concat(day,'/',month,'/',year), 'd/M/y')\"))\n",
    "df8.show()"
   ]
  },
  {
   "cell_type": "code",
   "execution_count": 11,
   "id": "301509e6",
   "metadata": {},
   "outputs": [
    {
     "name": "stdout",
     "output_type": "stream",
     "text": [
      "+-----+---+-----+----+-----------+----------+\n",
      "| name|day|month|year|         id|       dob|\n",
      "+-----+---+-----+----+-----------+----------+\n",
      "| Ravi| 28|    1|2002|          0|2002-01-28|\n",
      "|Abdul| 23|    5|1981| 8589934592|1981-05-23|\n",
      "| John| 12|   12|2006| 8589934593|2006-12-12|\n",
      "| Rosy|  7|    8|1963|17179869184|1963-08-07|\n",
      "|Abdul| 23|    5|1981|17179869185|1981-05-23|\n",
      "+-----+---+-----+----+-----------+----------+\n",
      "\n"
     ]
    }
   ],
   "source": [
    "#or use it on column\n",
    "df9 = df7.withColumn(\"dob\", to_date(expr(\"concat(day,'/',month,'/',year)\"), 'd/M/y'))\n",
    "df9.show()"
   ]
  },
  {
   "cell_type": "code",
   "execution_count": 12,
   "id": "3686a1ce",
   "metadata": {},
   "outputs": [
    {
     "name": "stdout",
     "output_type": "stream",
     "text": [
      "+-----+-----------+----------+\n",
      "| name|         id|       dob|\n",
      "+-----+-----------+----------+\n",
      "| Ravi|          0|2002-01-28|\n",
      "|Abdul| 8589934592|1981-05-23|\n",
      "| John| 8589934593|2006-12-12|\n",
      "| Rosy|17179869184|1963-08-07|\n",
      "|Abdul|17179869185|1981-05-23|\n",
      "+-----+-----------+----------+\n",
      "\n"
     ]
    }
   ],
   "source": [
    "# now day month year field useless for me. can we drop them\n",
    "df10 = df9.drop(\"day\", \"month\", \"year\")\n",
    "df10.show()"
   ]
  },
  {
   "cell_type": "code",
   "execution_count": 13,
   "id": "21ff66fb",
   "metadata": {},
   "outputs": [
    {
     "name": "stdout",
     "output_type": "stream",
     "text": [
      "+-----+---+-----+----+-----------+----------+\n",
      "| name|day|month|year|         id|       dob|\n",
      "+-----+---+-----+----+-----------+----------+\n",
      "| Rosy|  7|    8|1963|17179869184|1963-08-07|\n",
      "| Ravi| 28|    1|2002|          0|2002-01-28|\n",
      "|Abdul| 23|    5|1981| 8589934592|1981-05-23|\n",
      "| John| 12|   12|2006| 8589934593|2006-12-12|\n",
      "+-----+---+-----+----+-----------+----------+\n",
      "\n"
     ]
    }
   ],
   "source": [
    "df10 = df9.dropDuplicates([\"name\", \"dob\"])\n",
    "df10.show()"
   ]
  },
  {
   "cell_type": "code",
   "execution_count": 14,
   "id": "a19f9fb6",
   "metadata": {},
   "outputs": [
    {
     "name": "stdout",
     "output_type": "stream",
     "text": [
      "+-----+---+-----+----+-----------+----------+\n",
      "| name|day|month|year|         id|       dob|\n",
      "+-----+---+-----+----+-----------+----------+\n",
      "| Rosy|  7|    8|1963|17179869184|1963-08-07|\n",
      "|Abdul| 23|    5|1981| 8589934592|1981-05-23|\n",
      "| Ravi| 28|    1|2002|          0|2002-01-28|\n",
      "| John| 12|   12|2006| 8589934593|2006-12-12|\n",
      "+-----+---+-----+----+-----------+----------+\n",
      "\n"
     ]
    }
   ],
   "source": [
    "# sort using dob in desc (as by default it is in asceneding )\n",
    "df11=df10.sort(expr(\"dob desc\"))\n",
    "df11.show()"
   ]
  },
  {
   "cell_type": "code",
   "execution_count": 15,
   "id": "12dbdba3",
   "metadata": {},
   "outputs": [],
   "source": [
    "spark.stop()"
   ]
  },
  {
   "cell_type": "code",
   "execution_count": null,
   "id": "724b3090",
   "metadata": {},
   "outputs": [],
   "source": []
  }
 ],
 "metadata": {
  "kernelspec": {
   "display_name": "Python 3",
   "language": "python",
   "name": "python3"
  },
  "language_info": {
   "codemirror_mode": {
    "name": "ipython",
    "version": 3
   },
   "file_extension": ".py",
   "mimetype": "text/x-python",
   "name": "python",
   "nbconvert_exporter": "python",
   "pygments_lexer": "ipython3",
   "version": "3.8.10"
  }
 },
 "nbformat": 4,
 "nbformat_minor": 5
}
